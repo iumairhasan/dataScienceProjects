{
 "cells": [
  {
   "cell_type": "markdown",
   "metadata": {
    "id": "pm2TipOuVvyX"
   },
   "source": [
    "## Lets discuss about Air Quality "
   ]
  },
  {
   "cell_type": "markdown",
   "metadata": {
    "id": "hWd5vA7KVvHT"
   },
   "source": [
    "Air Quality is one of the important aspects of day to day life.Air Quality is included in the action plans promoted by the Ministry of Health to reduce\n",
    "population exposure to air pollution. Recent studies indicate that The 2020 National Energy Strategy could prevent 17%\n",
    "of the PM2.5, and 57% of the NO2 attributable deaths.\n",
    "Compliance with the EU Directive 50/2008 with a 2005 baseline situation could reduce attributable mortality due to\n",
    "PM2.5 or NO2 by around 20% (30% in urban areas).Humidity and temperature are two important compenents of Air.\n",
    "Humidity is the concentration of water vapor present in the air.The amount of water vapor contained within a parcel of air can vary significantly. \n",
    "For example, a parcel of air near saturation may contain 28 g (0.99 oz) of water per cubic metre of air at 30 °C (86 °F),\n",
    " but only 8 g (0.28 oz) of water per cubic metre of air at 8 °C (46 °F).\n",
    "Absolute humidity describes the water content of air and is expressed in either grams per cubic metre[2] or grams per kilogram.\n",
    "We have taken a dataset which contains 9358 instances of hourly averaged responses from an array of 5 metal oxide chemical sensors embedded in an Air Quality Chemical Multisensor Device. \n",
    "The device was located on the field in a significantly polluted area, at road level,within an Italian city. \n",
    "Data were recorded from March 2004 to February 2005 (one year)representing the longest freely available recordings of on field deployed air quality chemical sensor devices responses.\n",
    "Ground Truth hourly averaged concentrations for CO, Non Metanic Hydrocarbons, Benzene, Total Nitrogen Oxides (NOx) and Nitrogen Dioxide (NO2) and were provided by a co-located\n",
    "reference certified analyzer. Evidences of cross-sensitivities as well as both concept and sensor drifts are present as described in De Vito et al., Sens. And Act. B, Vol. 129,2,2008\n",
    " (citation required) eventually affecting sensors concentration estimation capabilities.This dataset can be used exclusively for research.\n",
    " \n",
    " <img src=\"airquality.jpg\" width=400 />\n"
   ]
  },
  {
   "cell_type": "code",
   "execution_count": 66,
   "metadata": {
    "colab": {
     "base_uri": "https://localhost:8080/"
    },
    "id": "b2ea-LAQTR7W",
    "outputId": "60d4ce44-ce65-4e05-bf2e-5ad720b63b47"
   },
   "outputs": [
    {
     "name": "stdout",
     "output_type": "stream",
     "text": [
      "Requirement already satisfied: arviz==0.6.1 in /usr/local/lib/python3.7/dist-packages (0.6.1)\n",
      "Requirement already satisfied: matplotlib>=3.0 in /usr/local/lib/python3.7/dist-packages (from arviz==0.6.1) (3.2.2)\n",
      "Requirement already satisfied: pandas>=0.23 in /usr/local/lib/python3.7/dist-packages (from arviz==0.6.1) (1.1.5)\n",
      "Requirement already satisfied: scipy>=0.19 in /usr/local/lib/python3.7/dist-packages (from arviz==0.6.1) (1.4.1)\n",
      "Requirement already satisfied: packaging in /usr/local/lib/python3.7/dist-packages (from arviz==0.6.1) (20.9)\n",
      "Requirement already satisfied: xarray>=0.11 in /usr/local/lib/python3.7/dist-packages (from arviz==0.6.1) (0.15.1)\n",
      "Requirement already satisfied: numpy>=1.12 in /usr/local/lib/python3.7/dist-packages (from arviz==0.6.1) (1.19.5)\n",
      "Requirement already satisfied: netcdf4 in /usr/local/lib/python3.7/dist-packages (from arviz==0.6.1) (1.5.6)\n",
      "Requirement already satisfied: cycler>=0.10 in /usr/local/lib/python3.7/dist-packages (from matplotlib>=3.0->arviz==0.6.1) (0.10.0)\n",
      "Requirement already satisfied: python-dateutil>=2.1 in /usr/local/lib/python3.7/dist-packages (from matplotlib>=3.0->arviz==0.6.1) (2.8.1)\n",
      "Requirement already satisfied: pyparsing!=2.0.4,!=2.1.2,!=2.1.6,>=2.0.1 in /usr/local/lib/python3.7/dist-packages (from matplotlib>=3.0->arviz==0.6.1) (2.4.7)\n",
      "Requirement already satisfied: kiwisolver>=1.0.1 in /usr/local/lib/python3.7/dist-packages (from matplotlib>=3.0->arviz==0.6.1) (1.3.1)\n",
      "Requirement already satisfied: pytz>=2017.2 in /usr/local/lib/python3.7/dist-packages (from pandas>=0.23->arviz==0.6.1) (2018.9)\n",
      "Requirement already satisfied: setuptools>=41.2 in /usr/local/lib/python3.7/dist-packages (from xarray>=0.11->arviz==0.6.1) (56.0.0)\n",
      "Requirement already satisfied: cftime in /usr/local/lib/python3.7/dist-packages (from netcdf4->arviz==0.6.1) (1.4.1)\n",
      "Requirement already satisfied: six in /usr/local/lib/python3.7/dist-packages (from cycler>=0.10->matplotlib>=3.0->arviz==0.6.1) (1.15.0)\n",
      "Requirement already satisfied: pymc3==3.8 in /usr/local/lib/python3.7/dist-packages (3.8)\n",
      "Requirement already satisfied: arviz>=0.4.1 in /usr/local/lib/python3.7/dist-packages (from pymc3==3.8) (0.6.1)\n",
      "Requirement already satisfied: h5py>=2.7.0 in /usr/local/lib/python3.7/dist-packages (from pymc3==3.8) (2.10.0)\n",
      "Requirement already satisfied: numpy>=1.13.0 in /usr/local/lib/python3.7/dist-packages (from pymc3==3.8) (1.19.5)\n",
      "Requirement already satisfied: pandas>=0.18.0 in /usr/local/lib/python3.7/dist-packages (from pymc3==3.8) (1.1.5)\n",
      "Requirement already satisfied: scipy>=0.18.1 in /usr/local/lib/python3.7/dist-packages (from pymc3==3.8) (1.4.1)\n",
      "Requirement already satisfied: patsy>=0.4.0 in /usr/local/lib/python3.7/dist-packages (from pymc3==3.8) (0.5.1)\n",
      "Requirement already satisfied: tqdm>=4.8.4 in /usr/local/lib/python3.7/dist-packages (from pymc3==3.8) (4.41.1)\n",
      "Requirement already satisfied: theano>=1.0.4 in /usr/local/lib/python3.7/dist-packages (from pymc3==3.8) (1.0.4)\n",
      "Requirement already satisfied: netcdf4 in /usr/local/lib/python3.7/dist-packages (from arviz>=0.4.1->pymc3==3.8) (1.5.6)\n",
      "Requirement already satisfied: packaging in /usr/local/lib/python3.7/dist-packages (from arviz>=0.4.1->pymc3==3.8) (20.9)\n",
      "Requirement already satisfied: xarray>=0.11 in /usr/local/lib/python3.7/dist-packages (from arviz>=0.4.1->pymc3==3.8) (0.15.1)\n",
      "Requirement already satisfied: matplotlib>=3.0 in /usr/local/lib/python3.7/dist-packages (from arviz>=0.4.1->pymc3==3.8) (3.2.2)\n",
      "Requirement already satisfied: six in /usr/local/lib/python3.7/dist-packages (from h5py>=2.7.0->pymc3==3.8) (1.15.0)\n",
      "Requirement already satisfied: python-dateutil>=2.7.3 in /usr/local/lib/python3.7/dist-packages (from pandas>=0.18.0->pymc3==3.8) (2.8.1)\n",
      "Requirement already satisfied: pytz>=2017.2 in /usr/local/lib/python3.7/dist-packages (from pandas>=0.18.0->pymc3==3.8) (2018.9)\n",
      "Requirement already satisfied: cftime in /usr/local/lib/python3.7/dist-packages (from netcdf4->arviz>=0.4.1->pymc3==3.8) (1.4.1)\n",
      "Requirement already satisfied: pyparsing>=2.0.2 in /usr/local/lib/python3.7/dist-packages (from packaging->arviz>=0.4.1->pymc3==3.8) (2.4.7)\n",
      "Requirement already satisfied: setuptools>=41.2 in /usr/local/lib/python3.7/dist-packages (from xarray>=0.11->arviz>=0.4.1->pymc3==3.8) (56.0.0)\n",
      "Requirement already satisfied: cycler>=0.10 in /usr/local/lib/python3.7/dist-packages (from matplotlib>=3.0->arviz>=0.4.1->pymc3==3.8) (0.10.0)\n",
      "Requirement already satisfied: kiwisolver>=1.0.1 in /usr/local/lib/python3.7/dist-packages (from matplotlib>=3.0->arviz>=0.4.1->pymc3==3.8) (1.3.1)\n",
      "Requirement already satisfied: Theano==1.0.4 in /usr/local/lib/python3.7/dist-packages (1.0.4)\n",
      "Requirement already satisfied: numpy>=1.9.1 in /usr/local/lib/python3.7/dist-packages (from Theano==1.0.4) (1.19.5)\n",
      "Requirement already satisfied: six>=1.9.0 in /usr/local/lib/python3.7/dist-packages (from Theano==1.0.4) (1.15.0)\n",
      "Requirement already satisfied: scipy>=0.14 in /usr/local/lib/python3.7/dist-packages (from Theano==1.0.4) (1.4.1)\n"
     ]
    }
   ],
   "source": [
    "!pip install arviz==0.6.1\n",
    "!pip install pymc3==3.8\n",
    "!pip install Theano==1.0.4"
   ]
  },
  {
   "cell_type": "code",
   "execution_count": 67,
   "metadata": {
    "id": "XJFhbWw5TUbL"
   },
   "outputs": [],
   "source": [
    "import numpy as np\n",
    "import pandas as pd\n",
    "import matplotlib.pyplot as plt\n",
    "%matplotlib inline\n",
    "import seaborn as sns\n",
    "import scipy.stats as st"
   ]
  },
  {
   "cell_type": "code",
   "execution_count": 68,
   "metadata": {
    "id": "0WzDq3lSTeGF"
   },
   "outputs": [],
   "source": [
    "airUCI = pd.read_csv(\"/content/AirQualityUCI.csv\", sep = \";\", decimal = \",\")"
   ]
  },
  {
   "cell_type": "markdown",
   "metadata": {},
   "source": [
    "# Data Set Information:\n",
    "\n",
    "The dataset contains 9358 instances of hourly averaged responses from an array of 5 metal oxide chemical sensors embedded in an Air Quality Chemical Multisensor Device. The device was located on the field in a significantly polluted area, at road level,within an Italian city. Data were recorded from March 2004 to February 2005 (one year)representing the longest freely available recordings of on field deployed air quality chemical sensor devices responses. Ground Truth hourly averaged concentrations for CO, Non Metanic Hydrocarbons, Benzene, Total Nitrogen Oxides (NOx) and Nitrogen Dioxide (NO2) and were provided by a co-located reference certified analyzer. Evidences of cross-sensitivities as well as both concept and sensor drifts are present as described in De Vito et al., Sens. And Act. B, Vol. 129,2,2008 (citation required) eventually affecting sensors concentration estimation capabilities. Missing values are tagged with -200 value.\n",
    "This dataset can be used exclusively for research purposes. Commercial purposes are fully excluded.\n",
    "\n",
    "\n",
    "# Attribute Information:\n",
    "0 Date (DD/MM/YYYY)\n",
    "\n",
    "1 Time (HH.MM.SS)\n",
    "\n",
    "2 True hourly averaged concentration CO in mg/m^3 (reference analyzer)\n",
    "\n",
    "3 PT08.S1 (tin oxide) hourly averaged sensor response (nominally CO targeted)\n",
    "\n",
    "4 True hourly averaged overall Non Metanic HydroCarbons concentration in microg/m^3 (reference analyzer)\n",
    "\n",
    "5 True hourly averaged Benzene concentration in microg/m^3 (reference analyzer)\n",
    "\n",
    "6 PT08.S2 (titania) hourly averaged sensor response (nominally NMHC targeted)\n",
    "\n",
    "7 True hourly averaged NOx concentration in ppb (reference analyzer)\n",
    "\n",
    "8 PT08.S3 (tungsten oxide) hourly averaged sensor response (nominally NOx targeted)\n",
    "\n",
    "9 True hourly averaged NO2 concentration in microg/m^3 (reference analyzer)\n",
    "\n",
    "10 PT08.S4 (tungsten oxide) hourly averaged sensor response (nominally NO2 targeted)\n",
    "\n",
    "11 PT08.S5 (indium oxide) hourly averaged sensor response (nominally O3 targeted)\n",
    "\n",
    "12 Temperature in Â°C\n",
    "\n",
    "13 Relative Humidity (%)\n",
    "\n",
    "14 AH Absolute Humidity"
   ]
  },
  {
   "cell_type": "code",
   "execution_count": 69,
   "metadata": {
    "colab": {
     "base_uri": "https://localhost:8080/",
     "height": 195
    },
    "id": "JuN7qq6CTg9S",
    "outputId": "fa7e922f-0d8f-4390-d2a0-2a5a8429e6a2"
   },
   "outputs": [
    {
     "data": {
      "text/html": [
       "<div>\n",
       "<style scoped>\n",
       "    .dataframe tbody tr th:only-of-type {\n",
       "        vertical-align: middle;\n",
       "    }\n",
       "\n",
       "    .dataframe tbody tr th {\n",
       "        vertical-align: top;\n",
       "    }\n",
       "\n",
       "    .dataframe thead th {\n",
       "        text-align: right;\n",
       "    }\n",
       "</style>\n",
       "<table border=\"1\" class=\"dataframe\">\n",
       "  <thead>\n",
       "    <tr style=\"text-align: right;\">\n",
       "      <th></th>\n",
       "      <th>Date</th>\n",
       "      <th>Time</th>\n",
       "      <th>CO(GT)</th>\n",
       "      <th>PT08.S1(CO)</th>\n",
       "      <th>NMHC(GT)</th>\n",
       "      <th>C6H6(GT)</th>\n",
       "      <th>PT08.S2(NMHC)</th>\n",
       "      <th>NOx(GT)</th>\n",
       "      <th>PT08.S3(NOx)</th>\n",
       "      <th>NO2(GT)</th>\n",
       "      <th>PT08.S4(NO2)</th>\n",
       "      <th>PT08.S5(O3)</th>\n",
       "      <th>T</th>\n",
       "      <th>RH</th>\n",
       "      <th>AH</th>\n",
       "      <th>Unnamed: 15</th>\n",
       "      <th>Unnamed: 16</th>\n",
       "    </tr>\n",
       "  </thead>\n",
       "  <tbody>\n",
       "    <tr>\n",
       "      <th>0</th>\n",
       "      <td>10/03/2004</td>\n",
       "      <td>18.00.00</td>\n",
       "      <td>2.60</td>\n",
       "      <td>1,360.00</td>\n",
       "      <td>150.00</td>\n",
       "      <td>11.90</td>\n",
       "      <td>1,046.00</td>\n",
       "      <td>166.00</td>\n",
       "      <td>1,056.00</td>\n",
       "      <td>113.00</td>\n",
       "      <td>1,692.00</td>\n",
       "      <td>1,268.00</td>\n",
       "      <td>13.60</td>\n",
       "      <td>48.90</td>\n",
       "      <td>0.76</td>\n",
       "      <td>nan</td>\n",
       "      <td>nan</td>\n",
       "    </tr>\n",
       "    <tr>\n",
       "      <th>1</th>\n",
       "      <td>10/03/2004</td>\n",
       "      <td>19.00.00</td>\n",
       "      <td>2.00</td>\n",
       "      <td>1,292.00</td>\n",
       "      <td>112.00</td>\n",
       "      <td>9.40</td>\n",
       "      <td>955.00</td>\n",
       "      <td>103.00</td>\n",
       "      <td>1,174.00</td>\n",
       "      <td>92.00</td>\n",
       "      <td>1,559.00</td>\n",
       "      <td>972.00</td>\n",
       "      <td>13.30</td>\n",
       "      <td>47.70</td>\n",
       "      <td>0.73</td>\n",
       "      <td>nan</td>\n",
       "      <td>nan</td>\n",
       "    </tr>\n",
       "    <tr>\n",
       "      <th>2</th>\n",
       "      <td>10/03/2004</td>\n",
       "      <td>20.00.00</td>\n",
       "      <td>2.20</td>\n",
       "      <td>1,402.00</td>\n",
       "      <td>88.00</td>\n",
       "      <td>9.00</td>\n",
       "      <td>939.00</td>\n",
       "      <td>131.00</td>\n",
       "      <td>1,140.00</td>\n",
       "      <td>114.00</td>\n",
       "      <td>1,555.00</td>\n",
       "      <td>1,074.00</td>\n",
       "      <td>11.90</td>\n",
       "      <td>54.00</td>\n",
       "      <td>0.75</td>\n",
       "      <td>nan</td>\n",
       "      <td>nan</td>\n",
       "    </tr>\n",
       "    <tr>\n",
       "      <th>3</th>\n",
       "      <td>10/03/2004</td>\n",
       "      <td>21.00.00</td>\n",
       "      <td>2.20</td>\n",
       "      <td>1,376.00</td>\n",
       "      <td>80.00</td>\n",
       "      <td>9.20</td>\n",
       "      <td>948.00</td>\n",
       "      <td>172.00</td>\n",
       "      <td>1,092.00</td>\n",
       "      <td>122.00</td>\n",
       "      <td>1,584.00</td>\n",
       "      <td>1,203.00</td>\n",
       "      <td>11.00</td>\n",
       "      <td>60.00</td>\n",
       "      <td>0.79</td>\n",
       "      <td>nan</td>\n",
       "      <td>nan</td>\n",
       "    </tr>\n",
       "    <tr>\n",
       "      <th>4</th>\n",
       "      <td>10/03/2004</td>\n",
       "      <td>22.00.00</td>\n",
       "      <td>1.60</td>\n",
       "      <td>1,272.00</td>\n",
       "      <td>51.00</td>\n",
       "      <td>6.50</td>\n",
       "      <td>836.00</td>\n",
       "      <td>131.00</td>\n",
       "      <td>1,205.00</td>\n",
       "      <td>116.00</td>\n",
       "      <td>1,490.00</td>\n",
       "      <td>1,110.00</td>\n",
       "      <td>11.20</td>\n",
       "      <td>59.60</td>\n",
       "      <td>0.79</td>\n",
       "      <td>nan</td>\n",
       "      <td>nan</td>\n",
       "    </tr>\n",
       "  </tbody>\n",
       "</table>\n",
       "</div>"
      ],
      "text/plain": [
       "         Date      Time  CO(GT)  ...   AH  Unnamed: 15  Unnamed: 16\n",
       "0  10/03/2004  18.00.00    2.60  ... 0.76          nan          nan\n",
       "1  10/03/2004  19.00.00    2.00  ... 0.73          nan          nan\n",
       "2  10/03/2004  20.00.00    2.20  ... 0.75          nan          nan\n",
       "3  10/03/2004  21.00.00    2.20  ... 0.79          nan          nan\n",
       "4  10/03/2004  22.00.00    1.60  ... 0.79          nan          nan\n",
       "\n",
       "[5 rows x 17 columns]"
      ]
     },
     "execution_count": 69,
     "metadata": {
      "tags": []
     },
     "output_type": "execute_result"
    }
   ],
   "source": [
    "airUCI.head(5)"
   ]
  },
  {
   "cell_type": "markdown",
   "metadata": {
    "id": "fKFN8tthTnXA"
   },
   "source": [
    "# Data Cleaning"
   ]
  },
  {
   "cell_type": "code",
   "execution_count": 71,
   "metadata": {
    "id": "JBPfqNuVTiF7"
   },
   "outputs": [],
   "source": [
    "airUCI = airUCI.drop([\"Unnamed: 15\", \"Unnamed: 16\"], axis = 1)"
   ]
  },
  {
   "cell_type": "markdown",
   "metadata": {},
   "source": [
    "Checking all the columns in our dataset"
   ]
  },
  {
   "cell_type": "code",
   "execution_count": 72,
   "metadata": {
    "colab": {
     "base_uri": "https://localhost:8080/"
    },
    "id": "-egu3wC6TjZM",
    "outputId": "3d402260-8fe9-420a-b7a3-caf38fb0eadf"
   },
   "outputs": [
    {
     "data": {
      "text/plain": [
       "Index(['Date', 'Time', 'CO(GT)', 'PT08.S1(CO)', 'NMHC(GT)', 'C6H6(GT)',\n",
       "       'PT08.S2(NMHC)', 'NOx(GT)', 'PT08.S3(NOx)', 'NO2(GT)', 'PT08.S4(NO2)',\n",
       "       'PT08.S5(O3)', 'T', 'RH', 'AH'],\n",
       "      dtype='object')"
      ]
     },
     "execution_count": 72,
     "metadata": {
      "tags": []
     },
     "output_type": "execute_result"
    }
   ],
   "source": [
    "airUCI.columns"
   ]
  },
  {
   "cell_type": "markdown",
   "metadata": {},
   "source": [
    "Renaming the columns to make our analysis easier"
   ]
  },
  {
   "cell_type": "code",
   "execution_count": 73,
   "metadata": {
    "id": "cS4X4SdrTtcg"
   },
   "outputs": [],
   "source": [
    "df = airUCI\n",
    "df = df.rename(columns={\"CO(GT)\": \"COGT\", \"PT08.S1(CO)\": \"PT08S1\", \"NMHC(GT)\": \"NMHC\", \"C6H6(GT)\" : \"C6H6\", \"PT08.S2(NMHC)\": \"PT08S2\", \"NOx(GT)\": \"NOxGT\", \"PT08.S3(NOx)\":\"PT08S3\", \"NO2(GT)\":\"NO2GT\", \"PT08.S4(NO2)\": \"PT08S4\", \"PT08.S5(O3)\":\"PT08S5\" })"
   ]
  },
  {
   "cell_type": "markdown",
   "metadata": {},
   "source": [
    "We see in our dataset that the missing values are represented with -200 value, which is really absurd and will impact our analysis. So I decided to replace that value with the mean of column to minimize the effect that it can have on our analysis"
   ]
  },
  {
   "cell_type": "code",
   "execution_count": 74,
   "metadata": {
    "id": "Koq_x1GKTurN"
   },
   "outputs": [],
   "source": [
    "for col in df.columns:\n",
    "    if(col == 'Date' or col == 'Time'):\n",
    "        continue\n",
    "    df[col] = df[col].replace(-200,float(np.NaN))\n",
    "    df[col] = df[col].fillna(df[col].mean())"
   ]
  },
  {
   "cell_type": "markdown",
   "metadata": {},
   "source": [
    "Converting Date Column to Datetime"
   ]
  },
  {
   "cell_type": "code",
   "execution_count": 75,
   "metadata": {
    "id": "vbZa2wWOTvwd"
   },
   "outputs": [],
   "source": [
    "df[\"Date\"] = pd.to_datetime(df[\"Date\"])"
   ]
  },
  {
   "cell_type": "code",
   "execution_count": 76,
   "metadata": {
    "colab": {
     "base_uri": "https://localhost:8080/",
     "height": 402
    },
    "id": "VgI-IgcwTww2",
    "outputId": "6a61c9ca-f537-4aea-a6a2-bbdd0c4fa058"
   },
   "outputs": [
    {
     "data": {
      "text/html": [
       "<div>\n",
       "<style scoped>\n",
       "    .dataframe tbody tr th:only-of-type {\n",
       "        vertical-align: middle;\n",
       "    }\n",
       "\n",
       "    .dataframe tbody tr th {\n",
       "        vertical-align: top;\n",
       "    }\n",
       "\n",
       "    .dataframe thead th {\n",
       "        text-align: right;\n",
       "    }\n",
       "</style>\n",
       "<table border=\"1\" class=\"dataframe\">\n",
       "  <thead>\n",
       "    <tr style=\"text-align: right;\">\n",
       "      <th></th>\n",
       "      <th>Date</th>\n",
       "      <th>Time</th>\n",
       "      <th>COGT</th>\n",
       "      <th>PT08S1</th>\n",
       "      <th>NMHC</th>\n",
       "      <th>C6H6</th>\n",
       "      <th>PT08S2</th>\n",
       "      <th>NOxGT</th>\n",
       "      <th>PT08S3</th>\n",
       "      <th>NO2GT</th>\n",
       "      <th>PT08S4</th>\n",
       "      <th>PT08S5</th>\n",
       "      <th>T</th>\n",
       "      <th>RH</th>\n",
       "      <th>AH</th>\n",
       "    </tr>\n",
       "  </thead>\n",
       "  <tbody>\n",
       "    <tr>\n",
       "      <th>0</th>\n",
       "      <td>2004-10-03</td>\n",
       "      <td>18.00.00</td>\n",
       "      <td>2.60</td>\n",
       "      <td>1,360.00</td>\n",
       "      <td>150.00</td>\n",
       "      <td>11.90</td>\n",
       "      <td>1,046.00</td>\n",
       "      <td>166.00</td>\n",
       "      <td>1,056.00</td>\n",
       "      <td>113.00</td>\n",
       "      <td>1,692.00</td>\n",
       "      <td>1,268.00</td>\n",
       "      <td>13.60</td>\n",
       "      <td>48.90</td>\n",
       "      <td>0.76</td>\n",
       "    </tr>\n",
       "    <tr>\n",
       "      <th>1</th>\n",
       "      <td>2004-10-03</td>\n",
       "      <td>19.00.00</td>\n",
       "      <td>2.00</td>\n",
       "      <td>1,292.00</td>\n",
       "      <td>112.00</td>\n",
       "      <td>9.40</td>\n",
       "      <td>955.00</td>\n",
       "      <td>103.00</td>\n",
       "      <td>1,174.00</td>\n",
       "      <td>92.00</td>\n",
       "      <td>1,559.00</td>\n",
       "      <td>972.00</td>\n",
       "      <td>13.30</td>\n",
       "      <td>47.70</td>\n",
       "      <td>0.73</td>\n",
       "    </tr>\n",
       "    <tr>\n",
       "      <th>2</th>\n",
       "      <td>2004-10-03</td>\n",
       "      <td>20.00.00</td>\n",
       "      <td>2.20</td>\n",
       "      <td>1,402.00</td>\n",
       "      <td>88.00</td>\n",
       "      <td>9.00</td>\n",
       "      <td>939.00</td>\n",
       "      <td>131.00</td>\n",
       "      <td>1,140.00</td>\n",
       "      <td>114.00</td>\n",
       "      <td>1,555.00</td>\n",
       "      <td>1,074.00</td>\n",
       "      <td>11.90</td>\n",
       "      <td>54.00</td>\n",
       "      <td>0.75</td>\n",
       "    </tr>\n",
       "    <tr>\n",
       "      <th>3</th>\n",
       "      <td>2004-10-03</td>\n",
       "      <td>21.00.00</td>\n",
       "      <td>2.20</td>\n",
       "      <td>1,376.00</td>\n",
       "      <td>80.00</td>\n",
       "      <td>9.20</td>\n",
       "      <td>948.00</td>\n",
       "      <td>172.00</td>\n",
       "      <td>1,092.00</td>\n",
       "      <td>122.00</td>\n",
       "      <td>1,584.00</td>\n",
       "      <td>1,203.00</td>\n",
       "      <td>11.00</td>\n",
       "      <td>60.00</td>\n",
       "      <td>0.79</td>\n",
       "    </tr>\n",
       "    <tr>\n",
       "      <th>4</th>\n",
       "      <td>2004-10-03</td>\n",
       "      <td>22.00.00</td>\n",
       "      <td>1.60</td>\n",
       "      <td>1,272.00</td>\n",
       "      <td>51.00</td>\n",
       "      <td>6.50</td>\n",
       "      <td>836.00</td>\n",
       "      <td>131.00</td>\n",
       "      <td>1,205.00</td>\n",
       "      <td>116.00</td>\n",
       "      <td>1,490.00</td>\n",
       "      <td>1,110.00</td>\n",
       "      <td>11.20</td>\n",
       "      <td>59.60</td>\n",
       "      <td>0.79</td>\n",
       "    </tr>\n",
       "    <tr>\n",
       "      <th>...</th>\n",
       "      <td>...</td>\n",
       "      <td>...</td>\n",
       "      <td>...</td>\n",
       "      <td>...</td>\n",
       "      <td>...</td>\n",
       "      <td>...</td>\n",
       "      <td>...</td>\n",
       "      <td>...</td>\n",
       "      <td>...</td>\n",
       "      <td>...</td>\n",
       "      <td>...</td>\n",
       "      <td>...</td>\n",
       "      <td>...</td>\n",
       "      <td>...</td>\n",
       "      <td>...</td>\n",
       "    </tr>\n",
       "    <tr>\n",
       "      <th>9466</th>\n",
       "      <td>NaT</td>\n",
       "      <td>NaN</td>\n",
       "      <td>2.15</td>\n",
       "      <td>1,099.83</td>\n",
       "      <td>218.81</td>\n",
       "      <td>10.08</td>\n",
       "      <td>939.15</td>\n",
       "      <td>246.90</td>\n",
       "      <td>835.49</td>\n",
       "      <td>113.09</td>\n",
       "      <td>1,456.26</td>\n",
       "      <td>1,022.91</td>\n",
       "      <td>18.32</td>\n",
       "      <td>49.23</td>\n",
       "      <td>1.03</td>\n",
       "    </tr>\n",
       "    <tr>\n",
       "      <th>9467</th>\n",
       "      <td>NaT</td>\n",
       "      <td>NaN</td>\n",
       "      <td>2.15</td>\n",
       "      <td>1,099.83</td>\n",
       "      <td>218.81</td>\n",
       "      <td>10.08</td>\n",
       "      <td>939.15</td>\n",
       "      <td>246.90</td>\n",
       "      <td>835.49</td>\n",
       "      <td>113.09</td>\n",
       "      <td>1,456.26</td>\n",
       "      <td>1,022.91</td>\n",
       "      <td>18.32</td>\n",
       "      <td>49.23</td>\n",
       "      <td>1.03</td>\n",
       "    </tr>\n",
       "    <tr>\n",
       "      <th>9468</th>\n",
       "      <td>NaT</td>\n",
       "      <td>NaN</td>\n",
       "      <td>2.15</td>\n",
       "      <td>1,099.83</td>\n",
       "      <td>218.81</td>\n",
       "      <td>10.08</td>\n",
       "      <td>939.15</td>\n",
       "      <td>246.90</td>\n",
       "      <td>835.49</td>\n",
       "      <td>113.09</td>\n",
       "      <td>1,456.26</td>\n",
       "      <td>1,022.91</td>\n",
       "      <td>18.32</td>\n",
       "      <td>49.23</td>\n",
       "      <td>1.03</td>\n",
       "    </tr>\n",
       "    <tr>\n",
       "      <th>9469</th>\n",
       "      <td>NaT</td>\n",
       "      <td>NaN</td>\n",
       "      <td>2.15</td>\n",
       "      <td>1,099.83</td>\n",
       "      <td>218.81</td>\n",
       "      <td>10.08</td>\n",
       "      <td>939.15</td>\n",
       "      <td>246.90</td>\n",
       "      <td>835.49</td>\n",
       "      <td>113.09</td>\n",
       "      <td>1,456.26</td>\n",
       "      <td>1,022.91</td>\n",
       "      <td>18.32</td>\n",
       "      <td>49.23</td>\n",
       "      <td>1.03</td>\n",
       "    </tr>\n",
       "    <tr>\n",
       "      <th>9470</th>\n",
       "      <td>NaT</td>\n",
       "      <td>NaN</td>\n",
       "      <td>2.15</td>\n",
       "      <td>1,099.83</td>\n",
       "      <td>218.81</td>\n",
       "      <td>10.08</td>\n",
       "      <td>939.15</td>\n",
       "      <td>246.90</td>\n",
       "      <td>835.49</td>\n",
       "      <td>113.09</td>\n",
       "      <td>1,456.26</td>\n",
       "      <td>1,022.91</td>\n",
       "      <td>18.32</td>\n",
       "      <td>49.23</td>\n",
       "      <td>1.03</td>\n",
       "    </tr>\n",
       "  </tbody>\n",
       "</table>\n",
       "<p>9471 rows × 15 columns</p>\n",
       "</div>"
      ],
      "text/plain": [
       "           Date      Time  COGT   PT08S1  ...   PT08S5     T    RH   AH\n",
       "0    2004-10-03  18.00.00  2.60 1,360.00  ... 1,268.00 13.60 48.90 0.76\n",
       "1    2004-10-03  19.00.00  2.00 1,292.00  ...   972.00 13.30 47.70 0.73\n",
       "2    2004-10-03  20.00.00  2.20 1,402.00  ... 1,074.00 11.90 54.00 0.75\n",
       "3    2004-10-03  21.00.00  2.20 1,376.00  ... 1,203.00 11.00 60.00 0.79\n",
       "4    2004-10-03  22.00.00  1.60 1,272.00  ... 1,110.00 11.20 59.60 0.79\n",
       "...         ...       ...   ...      ...  ...      ...   ...   ...  ...\n",
       "9466        NaT       NaN  2.15 1,099.83  ... 1,022.91 18.32 49.23 1.03\n",
       "9467        NaT       NaN  2.15 1,099.83  ... 1,022.91 18.32 49.23 1.03\n",
       "9468        NaT       NaN  2.15 1,099.83  ... 1,022.91 18.32 49.23 1.03\n",
       "9469        NaT       NaN  2.15 1,099.83  ... 1,022.91 18.32 49.23 1.03\n",
       "9470        NaT       NaN  2.15 1,099.83  ... 1,022.91 18.32 49.23 1.03\n",
       "\n",
       "[9471 rows x 15 columns]"
      ]
     },
     "execution_count": 76,
     "metadata": {
      "tags": []
     },
     "output_type": "execute_result"
    }
   ],
   "source": [
    "df"
   ]
  },
  {
   "cell_type": "code",
   "execution_count": 77,
   "metadata": {
    "colab": {
     "base_uri": "https://localhost:8080/"
    },
    "id": "lFf8FVbMTyCH",
    "outputId": "cfae2c55-a64c-49de-e664-a3bb368055a5"
   },
   "outputs": [
    {
     "data": {
      "text/plain": [
       "2004-09-07    24\n",
       "2004-12-29    24\n",
       "2004-10-28    24\n",
       "2004-05-23    24\n",
       "2004-03-27    24\n",
       "              ..\n",
       "2004-07-31    24\n",
       "2004-11-09    24\n",
       "2004-06-04    24\n",
       "2005-04-04    15\n",
       "2004-10-03     6\n",
       "Name: Date, Length: 391, dtype: int64"
      ]
     },
     "execution_count": 77,
     "metadata": {
      "tags": []
     },
     "output_type": "execute_result"
    }
   ],
   "source": [
    "df['Date'].value_counts()"
   ]
  },
  {
   "cell_type": "markdown",
   "metadata": {},
   "source": [
    "As we can see that each date is recorded 24 times, indicating that the data is recorded with period of 1 hour. It doesn't make sense if we continue our analysis considering all the values at a time. So I divided the data into three quaters of the day.\n",
    "\n",
    "dfFQ is first Quater of the day from 12 am to 8 am\n",
    "\n",
    "dfSQ is Second Quater of the day from 8 am to 4 pm\n",
    "\n",
    "dfTQ is Third Quater of the day from 4pm to 12 am\n",
    "\n",
    "Dividing out data in these Quaters makes sense as the Temparature behaves uniformly in these Quaters making our prediction more senseful and accurate."
   ]
  },
  {
   "cell_type": "code",
   "execution_count": 78,
   "metadata": {
    "colab": {
     "base_uri": "https://localhost:8080/",
     "height": 195
    },
    "id": "FHhWYbFUTzWf",
    "outputId": "70f73217-bd86-411f-f24f-5970fc297b7e"
   },
   "outputs": [
    {
     "data": {
      "text/html": [
       "<div>\n",
       "<style scoped>\n",
       "    .dataframe tbody tr th:only-of-type {\n",
       "        vertical-align: middle;\n",
       "    }\n",
       "\n",
       "    .dataframe tbody tr th {\n",
       "        vertical-align: top;\n",
       "    }\n",
       "\n",
       "    .dataframe thead th {\n",
       "        text-align: right;\n",
       "    }\n",
       "</style>\n",
       "<table border=\"1\" class=\"dataframe\">\n",
       "  <thead>\n",
       "    <tr style=\"text-align: right;\">\n",
       "      <th></th>\n",
       "      <th>Date</th>\n",
       "      <th>Time</th>\n",
       "      <th>COGT</th>\n",
       "      <th>PT08S1</th>\n",
       "      <th>NMHC</th>\n",
       "      <th>C6H6</th>\n",
       "      <th>PT08S2</th>\n",
       "      <th>NOxGT</th>\n",
       "      <th>PT08S3</th>\n",
       "      <th>NO2GT</th>\n",
       "      <th>PT08S4</th>\n",
       "      <th>PT08S5</th>\n",
       "      <th>T</th>\n",
       "      <th>RH</th>\n",
       "      <th>AH</th>\n",
       "    </tr>\n",
       "  </thead>\n",
       "  <tbody>\n",
       "    <tr>\n",
       "      <th>15</th>\n",
       "      <td>2004-11-03</td>\n",
       "      <td>09.00.00</td>\n",
       "      <td>2.20</td>\n",
       "      <td>1,351.00</td>\n",
       "      <td>87.00</td>\n",
       "      <td>9.50</td>\n",
       "      <td>960.00</td>\n",
       "      <td>129.00</td>\n",
       "      <td>1,079.00</td>\n",
       "      <td>101.00</td>\n",
       "      <td>1,583.00</td>\n",
       "      <td>1,028.00</td>\n",
       "      <td>10.50</td>\n",
       "      <td>60.60</td>\n",
       "      <td>0.77</td>\n",
       "    </tr>\n",
       "    <tr>\n",
       "      <th>16</th>\n",
       "      <td>2004-11-03</td>\n",
       "      <td>10.00.00</td>\n",
       "      <td>1.70</td>\n",
       "      <td>1,233.00</td>\n",
       "      <td>77.00</td>\n",
       "      <td>6.30</td>\n",
       "      <td>827.00</td>\n",
       "      <td>112.00</td>\n",
       "      <td>1,218.00</td>\n",
       "      <td>98.00</td>\n",
       "      <td>1,446.00</td>\n",
       "      <td>860.00</td>\n",
       "      <td>10.80</td>\n",
       "      <td>58.40</td>\n",
       "      <td>0.76</td>\n",
       "    </tr>\n",
       "    <tr>\n",
       "      <th>17</th>\n",
       "      <td>2004-11-03</td>\n",
       "      <td>11.00.00</td>\n",
       "      <td>1.50</td>\n",
       "      <td>1,179.00</td>\n",
       "      <td>43.00</td>\n",
       "      <td>5.00</td>\n",
       "      <td>762.00</td>\n",
       "      <td>95.00</td>\n",
       "      <td>1,328.00</td>\n",
       "      <td>92.00</td>\n",
       "      <td>1,362.00</td>\n",
       "      <td>671.00</td>\n",
       "      <td>10.50</td>\n",
       "      <td>57.90</td>\n",
       "      <td>0.74</td>\n",
       "    </tr>\n",
       "    <tr>\n",
       "      <th>18</th>\n",
       "      <td>2004-11-03</td>\n",
       "      <td>12.00.00</td>\n",
       "      <td>1.60</td>\n",
       "      <td>1,236.00</td>\n",
       "      <td>61.00</td>\n",
       "      <td>5.20</td>\n",
       "      <td>774.00</td>\n",
       "      <td>104.00</td>\n",
       "      <td>1,301.00</td>\n",
       "      <td>95.00</td>\n",
       "      <td>1,401.00</td>\n",
       "      <td>664.00</td>\n",
       "      <td>9.50</td>\n",
       "      <td>66.80</td>\n",
       "      <td>0.80</td>\n",
       "    </tr>\n",
       "    <tr>\n",
       "      <th>19</th>\n",
       "      <td>2004-11-03</td>\n",
       "      <td>13.00.00</td>\n",
       "      <td>1.90</td>\n",
       "      <td>1,286.00</td>\n",
       "      <td>63.00</td>\n",
       "      <td>7.30</td>\n",
       "      <td>869.00</td>\n",
       "      <td>146.00</td>\n",
       "      <td>1,162.00</td>\n",
       "      <td>112.00</td>\n",
       "      <td>1,537.00</td>\n",
       "      <td>799.00</td>\n",
       "      <td>8.30</td>\n",
       "      <td>76.40</td>\n",
       "      <td>0.84</td>\n",
       "    </tr>\n",
       "  </tbody>\n",
       "</table>\n",
       "</div>"
      ],
      "text/plain": [
       "         Date      Time  COGT   PT08S1  NMHC  ...   PT08S4   PT08S5     T    RH   AH\n",
       "15 2004-11-03  09.00.00  2.20 1,351.00 87.00  ... 1,583.00 1,028.00 10.50 60.60 0.77\n",
       "16 2004-11-03  10.00.00  1.70 1,233.00 77.00  ... 1,446.00   860.00 10.80 58.40 0.76\n",
       "17 2004-11-03  11.00.00  1.50 1,179.00 43.00  ... 1,362.00   671.00 10.50 57.90 0.74\n",
       "18 2004-11-03  12.00.00  1.60 1,236.00 61.00  ... 1,401.00   664.00  9.50 66.80 0.80\n",
       "19 2004-11-03  13.00.00  1.90 1,286.00 63.00  ... 1,537.00   799.00  8.30 76.40 0.84\n",
       "\n",
       "[5 rows x 15 columns]"
      ]
     },
     "execution_count": 78,
     "metadata": {
      "tags": []
     },
     "output_type": "execute_result"
    }
   ],
   "source": [
    "dfFQ = df[(df[\"Time\"]<= \"08.00.00\") & (df[\"Time\"]> \"00.00.00\")]\n",
    "dfSQ = df[(df[\"Time\"]<= \"16.00.00\") & (df[\"Time\"]> \"08.00.00\")]\n",
    "dfTQ = df[(df[\"Time\"]<= \"23.00.00\") & (df[\"Time\"]> \"16.00.00\")]\n",
    "dfSQ.head()"
   ]
  },
  {
   "cell_type": "code",
   "execution_count": 79,
   "metadata": {
    "colab": {
     "base_uri": "https://localhost:8080/",
     "height": 350
    },
    "id": "zn9I8Ra_T0oX",
    "outputId": "196460a5-379b-445b-d0b3-cb9c301492e7"
   },
   "outputs": [
    {
     "name": "stderr",
     "output_type": "stream",
     "text": [
      "/usr/local/lib/python3.7/dist-packages/seaborn/distributions.py:2557: FutureWarning: `distplot` is a deprecated function and will be removed in a future version. Please adapt your code to use either `displot` (a figure-level function with similar flexibility) or `histplot` (an axes-level function for histograms).\n",
      "  warnings.warn(msg, FutureWarning)\n"
     ]
    },
    {
     "data": {
      "text/plain": [
       "<matplotlib.axes._subplots.AxesSubplot at 0x7f5fd8381c50>"
      ]
     },
     "execution_count": 79,
     "metadata": {
      "tags": []
     },
     "output_type": "execute_result"
    },
    {
     "data": {
      "image/png": "[encoded data removed]",
      "text/plain": [
       "<Figure size 432x288 with 1 Axes>"
      ]
     },
     "metadata": {
      "needs_background": "light",
      "tags": []
     },
     "output_type": "display_data"
    }
   ],
   "source": [
    "sns.distplot(dfSQ['AH'], kde = True)"
   ]
  },
  {
   "cell_type": "code",
   "execution_count": 80,
   "metadata": {
    "colab": {
     "base_uri": "https://localhost:8080/",
     "height": 350
    },
    "id": "PDfaLTjZT14G",
    "outputId": "c4f69d81-f9fb-4539-932d-1878d4b7b551"
   },
   "outputs": [
    {
     "name": "stderr",
     "output_type": "stream",
     "text": [
      "/usr/local/lib/python3.7/dist-packages/seaborn/distributions.py:2557: FutureWarning: `distplot` is a deprecated function and will be removed in a future version. Please adapt your code to use either `displot` (a figure-level function with similar flexibility) or `histplot` (an axes-level function for histograms).\n",
      "  warnings.warn(msg, FutureWarning)\n"
     ]
    },
    {
     "data": {
      "text/plain": [
       "<matplotlib.axes._subplots.AxesSubplot at 0x7f5f6bf81310>"
      ]
     },
     "execution_count": 80,
     "metadata": {
      "tags": []
     },
     "output_type": "execute_result"
    },
    {
     "data": {
      "image/png": "[encoded data removed]",
      "text/plain": [
       "<Figure size 432x288 with 1 Axes>"
      ]
     },
     "metadata": {
      "needs_background": "light",
      "tags": []
     },
     "output_type": "display_data"
    }
   ],
   "source": [
    "sns.distplot(dfSQ['T'], kde = True)"
   ]
  },
  {
   "cell_type": "markdown",
   "metadata": {},
   "source": [
    "Here we can see that there are data points in our data set that are causing our data to skew towards right. This skewing might effect our Process"
   ]
  },
  {
   "cell_type": "code",
   "execution_count": 81,
   "metadata": {
    "colab": {
     "base_uri": "https://localhost:8080/",
     "height": 296
    },
    "id": "4cMzu-a4T3Nw",
    "outputId": "05a9f2ee-ef25-4d6f-b9d2-e8903ee09647"
   },
   "outputs": [
    {
     "data": {
      "text/plain": [
       "<matplotlib.axes._subplots.AxesSubplot at 0x7f5f6bed4850>"
      ]
     },
     "execution_count": 81,
     "metadata": {
      "tags": []
     },
     "output_type": "execute_result"
    },
    {
     "data": {
      "image/png": "[encoded data removed]",
      "text/plain": [
       "<Figure size 432x288 with 1 Axes>"
      ]
     },
     "metadata": {
      "needs_background": "light",
      "tags": []
     },
     "output_type": "display_data"
    }
   ],
   "source": [
    "sns.boxplot(x = dfSQ[\"AH\"])"
   ]
  },
  {
   "cell_type": "code",
   "execution_count": 82,
   "metadata": {
    "colab": {
     "base_uri": "https://localhost:8080/",
     "height": 296
    },
    "id": "a0TTgCYCT4a6",
    "outputId": "195463f3-a53d-4021-e5c4-934842c76338"
   },
   "outputs": [
    {
     "data": {
      "text/plain": [
       "<matplotlib.axes._subplots.AxesSubplot at 0x7f5f6beac8d0>"
      ]
     },
     "execution_count": 82,
     "metadata": {
      "tags": []
     },
     "output_type": "execute_result"
    },
    {
     "data": {
      "image/png": "[encoded data removed]",
      "text/plain": [
       "<Figure size 432x288 with 1 Axes>"
      ]
     },
     "metadata": {
      "needs_background": "light",
      "tags": []
     },
     "output_type": "display_data"
    }
   ],
   "source": [
    "sns.boxplot(x = dfSQ[\"T\"])"
   ]
  },
  {
   "cell_type": "code",
   "execution_count": 83,
   "metadata": {
    "colab": {
     "base_uri": "https://localhost:8080/"
    },
    "id": "FHLQDdqNT5nA",
    "outputId": "5c794365-f4f2-4437-9d47-7e5906c77997"
   },
   "outputs": [
    {
     "data": {
      "text/plain": [
       "count   3,118.00\n",
       "mean        1.00\n",
       "std         0.39\n",
       "min         0.19\n",
       "25%         0.72\n",
       "50%         1.00\n",
       "75%         1.26\n",
       "max         2.23\n",
       "Name: AH, dtype: float64"
      ]
     },
     "execution_count": 83,
     "metadata": {
      "tags": []
     },
     "output_type": "execute_result"
    }
   ],
   "source": [
    "dfSQ[\"AH\"].describe()"
   ]
  },
  {
   "cell_type": "code",
   "execution_count": 84,
   "metadata": {
    "colab": {
     "base_uri": "https://localhost:8080/"
    },
    "id": "3GuXTuIqT61n",
    "outputId": "be475a07-95d4-4630-aa02-1f80962243fa"
   },
   "outputs": [
    {
     "data": {
      "text/plain": [
       "count   3,118.00\n",
       "mean       21.33\n",
       "std         9.38\n",
       "min        -0.50\n",
       "25%        14.00\n",
       "50%        20.40\n",
       "75%        28.20\n",
       "max        44.60\n",
       "Name: T, dtype: float64"
      ]
     },
     "execution_count": 84,
     "metadata": {
      "tags": []
     },
     "output_type": "execute_result"
    }
   ],
   "source": [
    "dfSQ[\"T\"].describe()"
   ]
  },
  {
   "cell_type": "markdown",
   "metadata": {
    "id": "fR9OVswQRrLt"
   },
   "source": [
    " as we can see in out dataset, for absolute humidity values there are outliers are present which might effect our analysis. lets see hoe many data points are present outside two times of our standard Deviation."
   ]
  },
  {
   "cell_type": "code",
   "execution_count": 87,
   "metadata": {
    "colab": {
     "base_uri": "https://localhost:8080/"
    },
    "id": "ml515U8gT_0h",
    "outputId": "44c1f98e-76c3-4419-efb0-b8fdadd01d6b"
   },
   "outputs": [
    {
     "data": {
      "text/plain": [
       "1.00450025361403"
      ]
     },
     "execution_count": 87,
     "metadata": {
      "tags": []
     },
     "output_type": "execute_result"
    }
   ],
   "source": [
    "dfSQ[\"AH\"].mean()"
   ]
  },
  {
   "cell_type": "code",
   "execution_count": 88,
   "metadata": {
    "colab": {
     "base_uri": "https://localhost:8080/"
    },
    "id": "rs8zeG8tUA8A",
    "outputId": "fb8eedb9-a710-435b-f807-284e080eb017"
   },
   "outputs": [
    {
     "data": {
      "text/plain": [
       "1.7924434320401605"
      ]
     },
     "execution_count": 88,
     "metadata": {
      "tags": []
     },
     "output_type": "execute_result"
    }
   ],
   "source": [
    "dfSQ[\"AH\"].mean() + 2* dfSQ[\"AH\"].std()"
   ]
  },
  {
   "cell_type": "code",
   "execution_count": 90,
   "metadata": {
    "colab": {
     "base_uri": "https://localhost:8080/",
     "height": 462
    },
    "id": "1qeRVnZoUDMx",
    "outputId": "d4e8f4bc-522d-4815-ded4-45c20ab5765e"
   },
   "outputs": [
    {
     "data": {
      "text/html": [
       "<div>\n",
       "<style scoped>\n",
       "    .dataframe tbody tr th:only-of-type {\n",
       "        vertical-align: middle;\n",
       "    }\n",
       "\n",
       "    .dataframe tbody tr th {\n",
       "        vertical-align: top;\n",
       "    }\n",
       "\n",
       "    .dataframe thead th {\n",
       "        text-align: right;\n",
       "    }\n",
       "</style>\n",
       "<table border=\"1\" class=\"dataframe\">\n",
       "  <thead>\n",
       "    <tr style=\"text-align: right;\">\n",
       "      <th></th>\n",
       "      <th>Date</th>\n",
       "      <th>Time</th>\n",
       "      <th>COGT</th>\n",
       "      <th>PT08S1</th>\n",
       "      <th>NMHC</th>\n",
       "      <th>C6H6</th>\n",
       "      <th>PT08S2</th>\n",
       "      <th>NOxGT</th>\n",
       "      <th>PT08S3</th>\n",
       "      <th>NO2GT</th>\n",
       "      <th>PT08S4</th>\n",
       "      <th>PT08S5</th>\n",
       "      <th>T</th>\n",
       "      <th>RH</th>\n",
       "      <th>AH</th>\n",
       "    </tr>\n",
       "  </thead>\n",
       "  <tbody>\n",
       "    <tr>\n",
       "      <th>3550</th>\n",
       "      <td>2004-05-08</td>\n",
       "      <td>16.00.00</td>\n",
       "      <td>2.15</td>\n",
       "      <td>1,067.00</td>\n",
       "      <td>218.81</td>\n",
       "      <td>7.00</td>\n",
       "      <td>855.00</td>\n",
       "      <td>90.00</td>\n",
       "      <td>748.00</td>\n",
       "      <td>102.00</td>\n",
       "      <td>1,700.00</td>\n",
       "      <td>811.00</td>\n",
       "      <td>23.90</td>\n",
       "      <td>69.10</td>\n",
       "      <td>2.02</td>\n",
       "    </tr>\n",
       "    <tr>\n",
       "      <th>3567</th>\n",
       "      <td>2004-06-08</td>\n",
       "      <td>09.00.00</td>\n",
       "      <td>2.90</td>\n",
       "      <td>1,229.00</td>\n",
       "      <td>218.81</td>\n",
       "      <td>16.30</td>\n",
       "      <td>1,188.00</td>\n",
       "      <td>237.00</td>\n",
       "      <td>557.00</td>\n",
       "      <td>97.00</td>\n",
       "      <td>2,033.00</td>\n",
       "      <td>1,412.00</td>\n",
       "      <td>24.50</td>\n",
       "      <td>66.20</td>\n",
       "      <td>2.00</td>\n",
       "    </tr>\n",
       "    <tr>\n",
       "      <th>3618</th>\n",
       "      <td>2004-08-08</td>\n",
       "      <td>12.00.00</td>\n",
       "      <td>1.40</td>\n",
       "      <td>1,032.00</td>\n",
       "      <td>218.81</td>\n",
       "      <td>4.60</td>\n",
       "      <td>744.00</td>\n",
       "      <td>87.00</td>\n",
       "      <td>813.00</td>\n",
       "      <td>79.00</td>\n",
       "      <td>1,695.00</td>\n",
       "      <td>778.00</td>\n",
       "      <td>25.40</td>\n",
       "      <td>68.00</td>\n",
       "      <td>2.18</td>\n",
       "    </tr>\n",
       "    <tr>\n",
       "      <th>3687</th>\n",
       "      <td>2004-11-08</td>\n",
       "      <td>09.00.00</td>\n",
       "      <td>1.80</td>\n",
       "      <td>1,165.00</td>\n",
       "      <td>218.81</td>\n",
       "      <td>9.70</td>\n",
       "      <td>967.00</td>\n",
       "      <td>93.00</td>\n",
       "      <td>651.00</td>\n",
       "      <td>58.00</td>\n",
       "      <td>1,825.00</td>\n",
       "      <td>1,120.00</td>\n",
       "      <td>29.80</td>\n",
       "      <td>51.10</td>\n",
       "      <td>2.11</td>\n",
       "    </tr>\n",
       "    <tr>\n",
       "      <th>3688</th>\n",
       "      <td>2004-11-08</td>\n",
       "      <td>10.00.00</td>\n",
       "      <td>1.80</td>\n",
       "      <td>1,179.00</td>\n",
       "      <td>218.81</td>\n",
       "      <td>9.50</td>\n",
       "      <td>957.00</td>\n",
       "      <td>105.00</td>\n",
       "      <td>680.00</td>\n",
       "      <td>67.00</td>\n",
       "      <td>1,819.00</td>\n",
       "      <td>1,131.00</td>\n",
       "      <td>33.60</td>\n",
       "      <td>41.00</td>\n",
       "      <td>2.10</td>\n",
       "    </tr>\n",
       "    <tr>\n",
       "      <th>3689</th>\n",
       "      <td>2004-11-08</td>\n",
       "      <td>11.00.00</td>\n",
       "      <td>1.70</td>\n",
       "      <td>1,144.00</td>\n",
       "      <td>218.81</td>\n",
       "      <td>8.30</td>\n",
       "      <td>913.00</td>\n",
       "      <td>89.00</td>\n",
       "      <td>715.00</td>\n",
       "      <td>68.00</td>\n",
       "      <td>1,782.00</td>\n",
       "      <td>972.00</td>\n",
       "      <td>35.10</td>\n",
       "      <td>38.10</td>\n",
       "      <td>2.11</td>\n",
       "    </tr>\n",
       "    <tr>\n",
       "      <th>3690</th>\n",
       "      <td>2004-11-08</td>\n",
       "      <td>12.00.00</td>\n",
       "      <td>1.30</td>\n",
       "      <td>1,066.00</td>\n",
       "      <td>218.81</td>\n",
       "      <td>6.00</td>\n",
       "      <td>813.00</td>\n",
       "      <td>63.00</td>\n",
       "      <td>792.00</td>\n",
       "      <td>56.00</td>\n",
       "      <td>1,657.00</td>\n",
       "      <td>764.00</td>\n",
       "      <td>36.20</td>\n",
       "      <td>34.90</td>\n",
       "      <td>2.06</td>\n",
       "    </tr>\n",
       "    <tr>\n",
       "      <th>3691</th>\n",
       "      <td>2004-11-08</td>\n",
       "      <td>13.00.00</td>\n",
       "      <td>1.30</td>\n",
       "      <td>1,056.00</td>\n",
       "      <td>218.81</td>\n",
       "      <td>5.80</td>\n",
       "      <td>802.00</td>\n",
       "      <td>52.00</td>\n",
       "      <td>824.00</td>\n",
       "      <td>47.00</td>\n",
       "      <td>1,620.00</td>\n",
       "      <td>670.00</td>\n",
       "      <td>38.00</td>\n",
       "      <td>30.70</td>\n",
       "      <td>2.00</td>\n",
       "    </tr>\n",
       "    <tr>\n",
       "      <th>3711</th>\n",
       "      <td>2004-12-08</td>\n",
       "      <td>09.00.00</td>\n",
       "      <td>1.90</td>\n",
       "      <td>1,126.00</td>\n",
       "      <td>218.81</td>\n",
       "      <td>9.50</td>\n",
       "      <td>957.00</td>\n",
       "      <td>122.00</td>\n",
       "      <td>694.00</td>\n",
       "      <td>71.00</td>\n",
       "      <td>1,841.00</td>\n",
       "      <td>1,034.00</td>\n",
       "      <td>29.40</td>\n",
       "      <td>53.10</td>\n",
       "      <td>2.14</td>\n",
       "    </tr>\n",
       "    <tr>\n",
       "      <th>3712</th>\n",
       "      <td>2004-12-08</td>\n",
       "      <td>10.00.00</td>\n",
       "      <td>1.50</td>\n",
       "      <td>1,066.00</td>\n",
       "      <td>218.81</td>\n",
       "      <td>6.90</td>\n",
       "      <td>855.00</td>\n",
       "      <td>101.00</td>\n",
       "      <td>803.00</td>\n",
       "      <td>61.00</td>\n",
       "      <td>1,712.00</td>\n",
       "      <td>929.00</td>\n",
       "      <td>33.40</td>\n",
       "      <td>39.90</td>\n",
       "      <td>2.02</td>\n",
       "    </tr>\n",
       "    <tr>\n",
       "      <th>3903</th>\n",
       "      <td>2004-08-20</td>\n",
       "      <td>09.00.00</td>\n",
       "      <td>2.15</td>\n",
       "      <td>1,091.00</td>\n",
       "      <td>218.81</td>\n",
       "      <td>8.60</td>\n",
       "      <td>925.00</td>\n",
       "      <td>246.90</td>\n",
       "      <td>701.00</td>\n",
       "      <td>113.09</td>\n",
       "      <td>1,753.00</td>\n",
       "      <td>1,058.00</td>\n",
       "      <td>29.70</td>\n",
       "      <td>50.50</td>\n",
       "      <td>2.08</td>\n",
       "    </tr>\n",
       "    <tr>\n",
       "      <th>4459</th>\n",
       "      <td>2004-12-09</td>\n",
       "      <td>13.00.00</td>\n",
       "      <td>2.15</td>\n",
       "      <td>1,243.00</td>\n",
       "      <td>218.81</td>\n",
       "      <td>7.60</td>\n",
       "      <td>883.00</td>\n",
       "      <td>246.90</td>\n",
       "      <td>745.00</td>\n",
       "      <td>113.09</td>\n",
       "      <td>1,660.00</td>\n",
       "      <td>1,036.00</td>\n",
       "      <td>24.80</td>\n",
       "      <td>70.40</td>\n",
       "      <td>2.18</td>\n",
       "    </tr>\n",
       "    <tr>\n",
       "      <th>4462</th>\n",
       "      <td>2004-12-09</td>\n",
       "      <td>16.00.00</td>\n",
       "      <td>2.15</td>\n",
       "      <td>1,254.00</td>\n",
       "      <td>218.81</td>\n",
       "      <td>6.60</td>\n",
       "      <td>840.00</td>\n",
       "      <td>246.90</td>\n",
       "      <td>787.00</td>\n",
       "      <td>113.09</td>\n",
       "      <td>1,602.00</td>\n",
       "      <td>846.00</td>\n",
       "      <td>26.10</td>\n",
       "      <td>66.80</td>\n",
       "      <td>2.23</td>\n",
       "    </tr>\n",
       "    <tr>\n",
       "      <th>5586</th>\n",
       "      <td>2004-10-29</td>\n",
       "      <td>12.00.00</td>\n",
       "      <td>4.20</td>\n",
       "      <td>1,523.00</td>\n",
       "      <td>218.81</td>\n",
       "      <td>24.90</td>\n",
       "      <td>1,428.00</td>\n",
       "      <td>603.00</td>\n",
       "      <td>458.00</td>\n",
       "      <td>116.00</td>\n",
       "      <td>2,114.00</td>\n",
       "      <td>1,363.00</td>\n",
       "      <td>20.20</td>\n",
       "      <td>86.50</td>\n",
       "      <td>2.02</td>\n",
       "    </tr>\n",
       "  </tbody>\n",
       "</table>\n",
       "</div>"
      ],
      "text/plain": [
       "           Date      Time  COGT   PT08S1  ...   PT08S5     T    RH   AH\n",
       "3550 2004-05-08  16.00.00  2.15 1,067.00  ...   811.00 23.90 69.10 2.02\n",
       "3567 2004-06-08  09.00.00  2.90 1,229.00  ... 1,412.00 24.50 66.20 2.00\n",
       "3618 2004-08-08  12.00.00  1.40 1,032.00  ...   778.00 25.40 68.00 2.18\n",
       "3687 2004-11-08  09.00.00  1.80 1,165.00  ... 1,120.00 29.80 51.10 2.11\n",
       "3688 2004-11-08  10.00.00  1.80 1,179.00  ... 1,131.00 33.60 41.00 2.10\n",
       "3689 2004-11-08  11.00.00  1.70 1,144.00  ...   972.00 35.10 38.10 2.11\n",
       "3690 2004-11-08  12.00.00  1.30 1,066.00  ...   764.00 36.20 34.90 2.06\n",
       "3691 2004-11-08  13.00.00  1.30 1,056.00  ...   670.00 38.00 30.70 2.00\n",
       "3711 2004-12-08  09.00.00  1.90 1,126.00  ... 1,034.00 29.40 53.10 2.14\n",
       "3712 2004-12-08  10.00.00  1.50 1,066.00  ...   929.00 33.40 39.90 2.02\n",
       "3903 2004-08-20  09.00.00  2.15 1,091.00  ... 1,058.00 29.70 50.50 2.08\n",
       "4459 2004-12-09  13.00.00  2.15 1,243.00  ... 1,036.00 24.80 70.40 2.18\n",
       "4462 2004-12-09  16.00.00  2.15 1,254.00  ...   846.00 26.10 66.80 2.23\n",
       "5586 2004-10-29  12.00.00  4.20 1,523.00  ... 1,363.00 20.20 86.50 2.02\n",
       "\n",
       "[14 rows x 15 columns]"
      ]
     },
     "execution_count": 90,
     "metadata": {
      "tags": []
     },
     "output_type": "execute_result"
    }
   ],
   "source": [
    "dfSQ[dfSQ[\"AH\"] > (dfSQ[\"AH\"].mean() + 2.5* dfSQ[\"AH\"].std())]"
   ]
  },
  {
   "cell_type": "markdown",
   "metadata": {
    "id": "ubqSb50pR-QY"
   },
   "source": [
    "The outlier points of absolute humidity in our dataset as above and they are very less compare to number of data points we have. i.e Approximately 15 our of 3118 data points"
   ]
  },
  {
   "cell_type": "markdown",
   "metadata": {
    "id": "_YEnVwi-SWLa"
   },
   "source": [
    "# Handeling Outliers"
   ]
  },
  {
   "cell_type": "code",
   "execution_count": 91,
   "metadata": {
    "colab": {
     "base_uri": "https://localhost:8080/",
     "height": 402
    },
    "id": "7HyvKZSFUGOm",
    "outputId": "848fe63b-c780-4cc6-c0f6-6af24fa3ea67"
   },
   "outputs": [
    {
     "data": {
      "text/html": [
       "<div>\n",
       "<style scoped>\n",
       "    .dataframe tbody tr th:only-of-type {\n",
       "        vertical-align: middle;\n",
       "    }\n",
       "\n",
       "    .dataframe tbody tr th {\n",
       "        vertical-align: top;\n",
       "    }\n",
       "\n",
       "    .dataframe thead th {\n",
       "        text-align: right;\n",
       "    }\n",
       "</style>\n",
       "<table border=\"1\" class=\"dataframe\">\n",
       "  <thead>\n",
       "    <tr style=\"text-align: right;\">\n",
       "      <th></th>\n",
       "      <th>Date</th>\n",
       "      <th>Time</th>\n",
       "      <th>COGT</th>\n",
       "      <th>PT08S1</th>\n",
       "      <th>NMHC</th>\n",
       "      <th>C6H6</th>\n",
       "      <th>PT08S2</th>\n",
       "      <th>NOxGT</th>\n",
       "      <th>PT08S3</th>\n",
       "      <th>NO2GT</th>\n",
       "      <th>PT08S4</th>\n",
       "      <th>PT08S5</th>\n",
       "      <th>T</th>\n",
       "      <th>RH</th>\n",
       "      <th>AH</th>\n",
       "    </tr>\n",
       "  </thead>\n",
       "  <tbody>\n",
       "    <tr>\n",
       "      <th>15</th>\n",
       "      <td>2004-11-03</td>\n",
       "      <td>09.00.00</td>\n",
       "      <td>2.20</td>\n",
       "      <td>1,351.00</td>\n",
       "      <td>87.00</td>\n",
       "      <td>9.50</td>\n",
       "      <td>960.00</td>\n",
       "      <td>129.00</td>\n",
       "      <td>1,079.00</td>\n",
       "      <td>101.00</td>\n",
       "      <td>1,583.00</td>\n",
       "      <td>1,028.00</td>\n",
       "      <td>10.50</td>\n",
       "      <td>60.60</td>\n",
       "      <td>0.77</td>\n",
       "    </tr>\n",
       "    <tr>\n",
       "      <th>16</th>\n",
       "      <td>2004-11-03</td>\n",
       "      <td>10.00.00</td>\n",
       "      <td>1.70</td>\n",
       "      <td>1,233.00</td>\n",
       "      <td>77.00</td>\n",
       "      <td>6.30</td>\n",
       "      <td>827.00</td>\n",
       "      <td>112.00</td>\n",
       "      <td>1,218.00</td>\n",
       "      <td>98.00</td>\n",
       "      <td>1,446.00</td>\n",
       "      <td>860.00</td>\n",
       "      <td>10.80</td>\n",
       "      <td>58.40</td>\n",
       "      <td>0.76</td>\n",
       "    </tr>\n",
       "    <tr>\n",
       "      <th>17</th>\n",
       "      <td>2004-11-03</td>\n",
       "      <td>11.00.00</td>\n",
       "      <td>1.50</td>\n",
       "      <td>1,179.00</td>\n",
       "      <td>43.00</td>\n",
       "      <td>5.00</td>\n",
       "      <td>762.00</td>\n",
       "      <td>95.00</td>\n",
       "      <td>1,328.00</td>\n",
       "      <td>92.00</td>\n",
       "      <td>1,362.00</td>\n",
       "      <td>671.00</td>\n",
       "      <td>10.50</td>\n",
       "      <td>57.90</td>\n",
       "      <td>0.74</td>\n",
       "    </tr>\n",
       "    <tr>\n",
       "      <th>18</th>\n",
       "      <td>2004-11-03</td>\n",
       "      <td>12.00.00</td>\n",
       "      <td>1.60</td>\n",
       "      <td>1,236.00</td>\n",
       "      <td>61.00</td>\n",
       "      <td>5.20</td>\n",
       "      <td>774.00</td>\n",
       "      <td>104.00</td>\n",
       "      <td>1,301.00</td>\n",
       "      <td>95.00</td>\n",
       "      <td>1,401.00</td>\n",
       "      <td>664.00</td>\n",
       "      <td>9.50</td>\n",
       "      <td>66.80</td>\n",
       "      <td>0.80</td>\n",
       "    </tr>\n",
       "    <tr>\n",
       "      <th>19</th>\n",
       "      <td>2004-11-03</td>\n",
       "      <td>13.00.00</td>\n",
       "      <td>1.90</td>\n",
       "      <td>1,286.00</td>\n",
       "      <td>63.00</td>\n",
       "      <td>7.30</td>\n",
       "      <td>869.00</td>\n",
       "      <td>146.00</td>\n",
       "      <td>1,162.00</td>\n",
       "      <td>112.00</td>\n",
       "      <td>1,537.00</td>\n",
       "      <td>799.00</td>\n",
       "      <td>8.30</td>\n",
       "      <td>76.40</td>\n",
       "      <td>0.84</td>\n",
       "    </tr>\n",
       "    <tr>\n",
       "      <th>...</th>\n",
       "      <td>...</td>\n",
       "      <td>...</td>\n",
       "      <td>...</td>\n",
       "      <td>...</td>\n",
       "      <td>...</td>\n",
       "      <td>...</td>\n",
       "      <td>...</td>\n",
       "      <td>...</td>\n",
       "      <td>...</td>\n",
       "      <td>...</td>\n",
       "      <td>...</td>\n",
       "      <td>...</td>\n",
       "      <td>...</td>\n",
       "      <td>...</td>\n",
       "      <td>...</td>\n",
       "    </tr>\n",
       "    <tr>\n",
       "      <th>9352</th>\n",
       "      <td>2005-04-04</td>\n",
       "      <td>10.00.00</td>\n",
       "      <td>3.10</td>\n",
       "      <td>1,314.00</td>\n",
       "      <td>218.81</td>\n",
       "      <td>13.50</td>\n",
       "      <td>1,101.00</td>\n",
       "      <td>472.00</td>\n",
       "      <td>539.00</td>\n",
       "      <td>190.00</td>\n",
       "      <td>1,374.00</td>\n",
       "      <td>1,729.00</td>\n",
       "      <td>21.90</td>\n",
       "      <td>29.30</td>\n",
       "      <td>0.76</td>\n",
       "    </tr>\n",
       "    <tr>\n",
       "      <th>9353</th>\n",
       "      <td>2005-04-04</td>\n",
       "      <td>11.00.00</td>\n",
       "      <td>2.40</td>\n",
       "      <td>1,163.00</td>\n",
       "      <td>218.81</td>\n",
       "      <td>11.40</td>\n",
       "      <td>1,027.00</td>\n",
       "      <td>353.00</td>\n",
       "      <td>604.00</td>\n",
       "      <td>179.00</td>\n",
       "      <td>1,264.00</td>\n",
       "      <td>1,269.00</td>\n",
       "      <td>24.30</td>\n",
       "      <td>23.70</td>\n",
       "      <td>0.71</td>\n",
       "    </tr>\n",
       "    <tr>\n",
       "      <th>9354</th>\n",
       "      <td>2005-04-04</td>\n",
       "      <td>12.00.00</td>\n",
       "      <td>2.40</td>\n",
       "      <td>1,142.00</td>\n",
       "      <td>218.81</td>\n",
       "      <td>12.40</td>\n",
       "      <td>1,063.00</td>\n",
       "      <td>293.00</td>\n",
       "      <td>603.00</td>\n",
       "      <td>175.00</td>\n",
       "      <td>1,241.00</td>\n",
       "      <td>1,092.00</td>\n",
       "      <td>26.90</td>\n",
       "      <td>18.30</td>\n",
       "      <td>0.64</td>\n",
       "    </tr>\n",
       "    <tr>\n",
       "      <th>9355</th>\n",
       "      <td>2005-04-04</td>\n",
       "      <td>13.00.00</td>\n",
       "      <td>2.10</td>\n",
       "      <td>1,003.00</td>\n",
       "      <td>218.81</td>\n",
       "      <td>9.50</td>\n",
       "      <td>961.00</td>\n",
       "      <td>235.00</td>\n",
       "      <td>702.00</td>\n",
       "      <td>156.00</td>\n",
       "      <td>1,041.00</td>\n",
       "      <td>770.00</td>\n",
       "      <td>28.30</td>\n",
       "      <td>13.50</td>\n",
       "      <td>0.51</td>\n",
       "    </tr>\n",
       "    <tr>\n",
       "      <th>9356</th>\n",
       "      <td>2005-04-04</td>\n",
       "      <td>14.00.00</td>\n",
       "      <td>2.20</td>\n",
       "      <td>1,071.00</td>\n",
       "      <td>218.81</td>\n",
       "      <td>11.90</td>\n",
       "      <td>1,047.00</td>\n",
       "      <td>265.00</td>\n",
       "      <td>654.00</td>\n",
       "      <td>168.00</td>\n",
       "      <td>1,129.00</td>\n",
       "      <td>816.00</td>\n",
       "      <td>28.50</td>\n",
       "      <td>13.10</td>\n",
       "      <td>0.50</td>\n",
       "    </tr>\n",
       "  </tbody>\n",
       "</table>\n",
       "<p>3104 rows × 15 columns</p>\n",
       "</div>"
      ],
      "text/plain": [
       "           Date      Time  COGT   PT08S1  ...   PT08S5     T    RH   AH\n",
       "15   2004-11-03  09.00.00  2.20 1,351.00  ... 1,028.00 10.50 60.60 0.77\n",
       "16   2004-11-03  10.00.00  1.70 1,233.00  ...   860.00 10.80 58.40 0.76\n",
       "17   2004-11-03  11.00.00  1.50 1,179.00  ...   671.00 10.50 57.90 0.74\n",
       "18   2004-11-03  12.00.00  1.60 1,236.00  ...   664.00  9.50 66.80 0.80\n",
       "19   2004-11-03  13.00.00  1.90 1,286.00  ...   799.00  8.30 76.40 0.84\n",
       "...         ...       ...   ...      ...  ...      ...   ...   ...  ...\n",
       "9352 2005-04-04  10.00.00  3.10 1,314.00  ... 1,729.00 21.90 29.30 0.76\n",
       "9353 2005-04-04  11.00.00  2.40 1,163.00  ... 1,269.00 24.30 23.70 0.71\n",
       "9354 2005-04-04  12.00.00  2.40 1,142.00  ... 1,092.00 26.90 18.30 0.64\n",
       "9355 2005-04-04  13.00.00  2.10 1,003.00  ...   770.00 28.30 13.50 0.51\n",
       "9356 2005-04-04  14.00.00  2.20 1,071.00  ...   816.00 28.50 13.10 0.50\n",
       "\n",
       "[3104 rows x 15 columns]"
      ]
     },
     "execution_count": 91,
     "metadata": {
      "tags": []
     },
     "output_type": "execute_result"
    }
   ],
   "source": [
    "dfSQ = dfSQ[dfSQ[\"AH\"] < (dfSQ[\"AH\"].mean() + 2.5* dfSQ[\"AH\"].std())]\n",
    "dfSQ"
   ]
  },
  {
   "cell_type": "markdown",
   "metadata": {
    "id": "9L50_WtISLog"
   },
   "source": [
    "\n",
    "Now our data of absolute Humidity is free from outliers"
   ]
  },
  {
   "cell_type": "markdown",
   "metadata": {
    "id": "Wq09g0YTSmSV"
   },
   "source": [
    "# correlation matrix"
   ]
  },
  {
   "cell_type": "code",
   "execution_count": 92,
   "metadata": {
    "colab": {
     "base_uri": "https://localhost:8080/",
     "height": 721
    },
    "id": "r55RDwViUMBs",
    "outputId": "1b8281c1-d6f2-40c8-cdd8-a08f82b140d5"
   },
   "outputs": [
    {
     "data": {
      "text/plain": [
       "<matplotlib.axes._subplots.AxesSubplot at 0x7f5f6be88f90>"
      ]
     },
     "execution_count": 92,
     "metadata": {
      "tags": []
     },
     "output_type": "execute_result"
    },
    {
     "data": {
      "image/png": "[encoded data removed]",
      "text/plain": [
       "<Figure size 1152x864 with 2 Axes>"
      ]
     },
     "metadata": {
      "needs_background": "light",
      "tags": []
     },
     "output_type": "display_data"
    }
   ],
   "source": [
    "plt.figure(figsize=(16,12))\n",
    "sns.heatmap(df.corr(),annot=True,fmt=\".2f\",cmap='coolwarm')"
   ]
  },
  {
   "cell_type": "code",
   "execution_count": 93,
   "metadata": {
    "colab": {
     "base_uri": "https://localhost:8080/"
    },
    "id": "5_f3PxI9URIW",
    "outputId": "058456d7-836d-477c-d88d-d9056f0b1b09"
   },
   "outputs": [
    {
     "name": "stdout",
     "output_type": "stream",
     "text": [
      "Requirement already satisfied: dcor in /usr/local/lib/python3.7/dist-packages (0.5.3)\n",
      "Requirement already satisfied: scipy in /usr/local/lib/python3.7/dist-packages (from dcor) (1.4.1)\n",
      "Requirement already satisfied: numpy in /usr/local/lib/python3.7/dist-packages (from dcor) (1.19.5)\n",
      "Requirement already satisfied: numba>=0.51 in /usr/local/lib/python3.7/dist-packages (from dcor) (0.51.2)\n",
      "Requirement already satisfied: setuptools in /usr/local/lib/python3.7/dist-packages (from numba>=0.51->dcor) (56.0.0)\n",
      "Requirement already satisfied: llvmlite<0.35,>=0.34.0.dev0 in /usr/local/lib/python3.7/dist-packages (from numba>=0.51->dcor) (0.34.0)\n"
     ]
    }
   ],
   "source": [
    "pip install dcor"
   ]
  },
  {
   "cell_type": "code",
   "execution_count": 94,
   "metadata": {
    "id": "_tBuSwq5UNLr"
   },
   "outputs": [],
   "source": [
    "import dcor\n",
    "def dist_corr(X, Y, pval=True, nruns=2000):\n",
    "    \"\"\" Distance correlation with p-value from bootstrapping\n",
    "    \"\"\"\n",
    "    dc = dcor.distance_correlation(X, Y)\n",
    "    pv = dcor.independence.distance_covariance_test(X, Y, exponent=1.0, num_resamples=nruns)[0]\n",
    "    if pval:\n",
    "        return (dc, pv)\n",
    "    else:\n",
    "        return dc\n",
    "def corrfunc(x, y, **kws):\n",
    "    d, p = dist_corr(x,y) \n",
    "    #print(\"{:.4f}\".format(d), \"{:.4f}\".format(p))\n",
    "    if p > 0.1:\n",
    "        pclr = 'Darkgray'\n",
    "    else:\n",
    "        pclr= 'Darkblue'\n",
    "    ax = pyplot.gca()\n",
    "    ax.annotate(\"DC = {:.2f}\".format(d), xy=(.1, 0.99), xycoords=ax.transAxes, color = pclr, fontsize = 14)\n"
   ]
  },
  {
   "cell_type": "code",
   "execution_count": 95,
   "metadata": {
    "colab": {
     "base_uri": "https://localhost:8080/",
     "height": 432
    },
    "id": "GGmOPJoLUOix",
    "outputId": "06510894-ecaf-49ad-f3c3-52a47c35254c"
   },
   "outputs": [
    {
     "data": {
      "text/html": [
       "<div>\n",
       "<style scoped>\n",
       "    .dataframe tbody tr th:only-of-type {\n",
       "        vertical-align: middle;\n",
       "    }\n",
       "\n",
       "    .dataframe tbody tr th {\n",
       "        vertical-align: top;\n",
       "    }\n",
       "\n",
       "    .dataframe thead th {\n",
       "        text-align: right;\n",
       "    }\n",
       "</style>\n",
       "<table border=\"1\" class=\"dataframe\">\n",
       "  <thead>\n",
       "    <tr style=\"text-align: right;\">\n",
       "      <th></th>\n",
       "      <th>COGT</th>\n",
       "      <th>PT08S1</th>\n",
       "      <th>NMHC</th>\n",
       "      <th>C6H6</th>\n",
       "      <th>PT08S2</th>\n",
       "      <th>NOxGT</th>\n",
       "      <th>PT08S3</th>\n",
       "      <th>NO2GT</th>\n",
       "      <th>PT08S4</th>\n",
       "      <th>PT08S5</th>\n",
       "      <th>T</th>\n",
       "      <th>RH</th>\n",
       "      <th>AH</th>\n",
       "    </tr>\n",
       "  </thead>\n",
       "  <tbody>\n",
       "    <tr>\n",
       "      <th>COGT</th>\n",
       "      <td>1.00</td>\n",
       "      <td>0.74</td>\n",
       "      <td>0.25</td>\n",
       "      <td>0.78</td>\n",
       "      <td>0.78</td>\n",
       "      <td>0.75</td>\n",
       "      <td>0.64</td>\n",
       "      <td>0.61</td>\n",
       "      <td>0.48</td>\n",
       "      <td>0.77</td>\n",
       "      <td>0.24</td>\n",
       "      <td>0.37</td>\n",
       "      <td>0.14</td>\n",
       "    </tr>\n",
       "    <tr>\n",
       "      <th>PT08S1</th>\n",
       "      <td>0.74</td>\n",
       "      <td>1.00</td>\n",
       "      <td>0.24</td>\n",
       "      <td>0.84</td>\n",
       "      <td>0.83</td>\n",
       "      <td>0.56</td>\n",
       "      <td>0.77</td>\n",
       "      <td>0.46</td>\n",
       "      <td>0.60</td>\n",
       "      <td>0.88</td>\n",
       "      <td>0.21</td>\n",
       "      <td>0.43</td>\n",
       "      <td>0.23</td>\n",
       "    </tr>\n",
       "    <tr>\n",
       "      <th>NMHC</th>\n",
       "      <td>0.25</td>\n",
       "      <td>0.24</td>\n",
       "      <td>1.00</td>\n",
       "      <td>0.23</td>\n",
       "      <td>0.22</td>\n",
       "      <td>0.17</td>\n",
       "      <td>0.24</td>\n",
       "      <td>0.16</td>\n",
       "      <td>0.23</td>\n",
       "      <td>0.20</td>\n",
       "      <td>0.12</td>\n",
       "      <td>0.04</td>\n",
       "      <td>0.16</td>\n",
       "    </tr>\n",
       "    <tr>\n",
       "      <th>C6H6</th>\n",
       "      <td>0.78</td>\n",
       "      <td>0.84</td>\n",
       "      <td>0.23</td>\n",
       "      <td>1.00</td>\n",
       "      <td>1.00</td>\n",
       "      <td>0.56</td>\n",
       "      <td>0.75</td>\n",
       "      <td>0.48</td>\n",
       "      <td>0.69</td>\n",
       "      <td>0.87</td>\n",
       "      <td>0.15</td>\n",
       "      <td>0.27</td>\n",
       "      <td>0.24</td>\n",
       "    </tr>\n",
       "    <tr>\n",
       "      <th>PT08S2</th>\n",
       "      <td>0.78</td>\n",
       "      <td>0.83</td>\n",
       "      <td>0.22</td>\n",
       "      <td>1.00</td>\n",
       "      <td>1.00</td>\n",
       "      <td>0.54</td>\n",
       "      <td>0.76</td>\n",
       "      <td>0.48</td>\n",
       "      <td>0.70</td>\n",
       "      <td>0.87</td>\n",
       "      <td>0.15</td>\n",
       "      <td>0.25</td>\n",
       "      <td>0.25</td>\n",
       "    </tr>\n",
       "    <tr>\n",
       "      <th>NOxGT</th>\n",
       "      <td>0.75</td>\n",
       "      <td>0.56</td>\n",
       "      <td>0.17</td>\n",
       "      <td>0.56</td>\n",
       "      <td>0.54</td>\n",
       "      <td>1.00</td>\n",
       "      <td>0.63</td>\n",
       "      <td>0.73</td>\n",
       "      <td>0.15</td>\n",
       "      <td>0.68</td>\n",
       "      <td>0.42</td>\n",
       "      <td>0.46</td>\n",
       "      <td>0.12</td>\n",
       "    </tr>\n",
       "    <tr>\n",
       "      <th>PT08S3</th>\n",
       "      <td>0.64</td>\n",
       "      <td>0.77</td>\n",
       "      <td>0.24</td>\n",
       "      <td>0.75</td>\n",
       "      <td>0.76</td>\n",
       "      <td>0.63</td>\n",
       "      <td>1.00</td>\n",
       "      <td>0.54</td>\n",
       "      <td>0.43</td>\n",
       "      <td>0.81</td>\n",
       "      <td>0.16</td>\n",
       "      <td>0.40</td>\n",
       "      <td>0.26</td>\n",
       "    </tr>\n",
       "    <tr>\n",
       "      <th>NO2GT</th>\n",
       "      <td>0.61</td>\n",
       "      <td>0.46</td>\n",
       "      <td>0.16</td>\n",
       "      <td>0.48</td>\n",
       "      <td>0.48</td>\n",
       "      <td>0.73</td>\n",
       "      <td>0.54</td>\n",
       "      <td>1.00</td>\n",
       "      <td>0.16</td>\n",
       "      <td>0.58</td>\n",
       "      <td>0.35</td>\n",
       "      <td>0.20</td>\n",
       "      <td>0.27</td>\n",
       "    </tr>\n",
       "    <tr>\n",
       "      <th>PT08S4</th>\n",
       "      <td>0.48</td>\n",
       "      <td>0.60</td>\n",
       "      <td>0.23</td>\n",
       "      <td>0.69</td>\n",
       "      <td>0.70</td>\n",
       "      <td>0.15</td>\n",
       "      <td>0.43</td>\n",
       "      <td>0.16</td>\n",
       "      <td>1.00</td>\n",
       "      <td>0.51</td>\n",
       "      <td>0.48</td>\n",
       "      <td>0.14</td>\n",
       "      <td>0.67</td>\n",
       "    </tr>\n",
       "    <tr>\n",
       "      <th>PT08S5</th>\n",
       "      <td>0.77</td>\n",
       "      <td>0.88</td>\n",
       "      <td>0.20</td>\n",
       "      <td>0.87</td>\n",
       "      <td>0.87</td>\n",
       "      <td>0.68</td>\n",
       "      <td>0.81</td>\n",
       "      <td>0.58</td>\n",
       "      <td>0.51</td>\n",
       "      <td>1.00</td>\n",
       "      <td>0.23</td>\n",
       "      <td>0.42</td>\n",
       "      <td>0.15</td>\n",
       "    </tr>\n",
       "    <tr>\n",
       "      <th>T</th>\n",
       "      <td>0.24</td>\n",
       "      <td>0.21</td>\n",
       "      <td>0.12</td>\n",
       "      <td>0.15</td>\n",
       "      <td>0.15</td>\n",
       "      <td>0.42</td>\n",
       "      <td>0.16</td>\n",
       "      <td>0.35</td>\n",
       "      <td>0.48</td>\n",
       "      <td>0.23</td>\n",
       "      <td>1.00</td>\n",
       "      <td>0.61</td>\n",
       "      <td>0.61</td>\n",
       "    </tr>\n",
       "    <tr>\n",
       "      <th>RH</th>\n",
       "      <td>0.37</td>\n",
       "      <td>0.43</td>\n",
       "      <td>0.04</td>\n",
       "      <td>0.27</td>\n",
       "      <td>0.25</td>\n",
       "      <td>0.46</td>\n",
       "      <td>0.40</td>\n",
       "      <td>0.20</td>\n",
       "      <td>0.14</td>\n",
       "      <td>0.42</td>\n",
       "      <td>0.61</td>\n",
       "      <td>1.00</td>\n",
       "      <td>0.14</td>\n",
       "    </tr>\n",
       "    <tr>\n",
       "      <th>AH</th>\n",
       "      <td>0.14</td>\n",
       "      <td>0.23</td>\n",
       "      <td>0.16</td>\n",
       "      <td>0.24</td>\n",
       "      <td>0.25</td>\n",
       "      <td>0.12</td>\n",
       "      <td>0.26</td>\n",
       "      <td>0.27</td>\n",
       "      <td>0.67</td>\n",
       "      <td>0.15</td>\n",
       "      <td>0.61</td>\n",
       "      <td>0.14</td>\n",
       "      <td>1.00</td>\n",
       "    </tr>\n",
       "  </tbody>\n",
       "</table>\n",
       "</div>"
      ],
      "text/plain": [
       "        COGT  PT08S1  NMHC  C6H6  PT08S2  ...  PT08S4  PT08S5    T   RH   AH\n",
       "COGT    1.00    0.74  0.25  0.78    0.78  ...    0.48    0.77 0.24 0.37 0.14\n",
       "PT08S1  0.74    1.00  0.24  0.84    0.83  ...    0.60    0.88 0.21 0.43 0.23\n",
       "NMHC    0.25    0.24  1.00  0.23    0.22  ...    0.23    0.20 0.12 0.04 0.16\n",
       "C6H6    0.78    0.84  0.23  1.00    1.00  ...    0.69    0.87 0.15 0.27 0.24\n",
       "PT08S2  0.78    0.83  0.22  1.00    1.00  ...    0.70    0.87 0.15 0.25 0.25\n",
       "NOxGT   0.75    0.56  0.17  0.56    0.54  ...    0.15    0.68 0.42 0.46 0.12\n",
       "PT08S3  0.64    0.77  0.24  0.75    0.76  ...    0.43    0.81 0.16 0.40 0.26\n",
       "NO2GT   0.61    0.46  0.16  0.48    0.48  ...    0.16    0.58 0.35 0.20 0.27\n",
       "PT08S4  0.48    0.60  0.23  0.69    0.70  ...    1.00    0.51 0.48 0.14 0.67\n",
       "PT08S5  0.77    0.88  0.20  0.87    0.87  ...    0.51    1.00 0.23 0.42 0.15\n",
       "T       0.24    0.21  0.12  0.15    0.15  ...    0.48    0.23 1.00 0.61 0.61\n",
       "RH      0.37    0.43  0.04  0.27    0.25  ...    0.14    0.42 0.61 1.00 0.14\n",
       "AH      0.14    0.23  0.16  0.24    0.25  ...    0.67    0.15 0.61 0.14 1.00\n",
       "\n",
       "[13 rows x 13 columns]"
      ]
     },
     "execution_count": 95,
     "metadata": {
      "tags": []
     },
     "output_type": "execute_result"
    }
   ],
   "source": [
    "# Create the distance method using distance_correlation\n",
    "data2 = dfSQ.drop(labels = [\"Date\",\"Time\"], axis = 1)\n",
    "distcorr = lambda column1, column2: dcor.distance_correlation(column1, column2) \n",
    "\n",
    "# Apply the distance method pairwise to every column\n",
    "rslt = data2.apply(lambda col1: data2.apply(lambda col2: distcorr(col1, col2)))\n",
    "\n",
    "# check output\n",
    "pd.options.display.float_format = '{:,.2f}'.format\n",
    "rslt"
   ]
  },
  {
   "cell_type": "markdown",
   "metadata": {
    "id": "aBinrp92TmvZ"
   },
   "source": [
    "As we can see from the correlation table that out dependent variable is highly correlated with PT08S4(Tungton Oxide), Temparature and NO2 content of the air"
   ]
  },
  {
   "cell_type": "code",
   "execution_count": 96,
   "metadata": {
    "colab": {
     "base_uri": "https://localhost:8080/",
     "height": 402
    },
    "id": "nhLkKD-oUYxt",
    "outputId": "3df06a0b-c28b-4f9c-9a77-1d1a288314cd"
   },
   "outputs": [
    {
     "data": {
      "text/html": [
       "<div>\n",
       "<style scoped>\n",
       "    .dataframe tbody tr th:only-of-type {\n",
       "        vertical-align: middle;\n",
       "    }\n",
       "\n",
       "    .dataframe tbody tr th {\n",
       "        vertical-align: top;\n",
       "    }\n",
       "\n",
       "    .dataframe thead th {\n",
       "        text-align: right;\n",
       "    }\n",
       "</style>\n",
       "<table border=\"1\" class=\"dataframe\">\n",
       "  <thead>\n",
       "    <tr style=\"text-align: right;\">\n",
       "      <th></th>\n",
       "      <th>PT08S4</th>\n",
       "      <th>AH</th>\n",
       "      <th>NO2GT</th>\n",
       "      <th>T</th>\n",
       "    </tr>\n",
       "  </thead>\n",
       "  <tbody>\n",
       "    <tr>\n",
       "      <th>15</th>\n",
       "      <td>1,583.00</td>\n",
       "      <td>0.77</td>\n",
       "      <td>101.00</td>\n",
       "      <td>10.50</td>\n",
       "    </tr>\n",
       "    <tr>\n",
       "      <th>16</th>\n",
       "      <td>1,446.00</td>\n",
       "      <td>0.76</td>\n",
       "      <td>98.00</td>\n",
       "      <td>10.80</td>\n",
       "    </tr>\n",
       "    <tr>\n",
       "      <th>17</th>\n",
       "      <td>1,362.00</td>\n",
       "      <td>0.74</td>\n",
       "      <td>92.00</td>\n",
       "      <td>10.50</td>\n",
       "    </tr>\n",
       "    <tr>\n",
       "      <th>18</th>\n",
       "      <td>1,401.00</td>\n",
       "      <td>0.80</td>\n",
       "      <td>95.00</td>\n",
       "      <td>9.50</td>\n",
       "    </tr>\n",
       "    <tr>\n",
       "      <th>19</th>\n",
       "      <td>1,537.00</td>\n",
       "      <td>0.84</td>\n",
       "      <td>112.00</td>\n",
       "      <td>8.30</td>\n",
       "    </tr>\n",
       "    <tr>\n",
       "      <th>...</th>\n",
       "      <td>...</td>\n",
       "      <td>...</td>\n",
       "      <td>...</td>\n",
       "      <td>...</td>\n",
       "    </tr>\n",
       "    <tr>\n",
       "      <th>9352</th>\n",
       "      <td>1,374.00</td>\n",
       "      <td>0.76</td>\n",
       "      <td>190.00</td>\n",
       "      <td>21.90</td>\n",
       "    </tr>\n",
       "    <tr>\n",
       "      <th>9353</th>\n",
       "      <td>1,264.00</td>\n",
       "      <td>0.71</td>\n",
       "      <td>179.00</td>\n",
       "      <td>24.30</td>\n",
       "    </tr>\n",
       "    <tr>\n",
       "      <th>9354</th>\n",
       "      <td>1,241.00</td>\n",
       "      <td>0.64</td>\n",
       "      <td>175.00</td>\n",
       "      <td>26.90</td>\n",
       "    </tr>\n",
       "    <tr>\n",
       "      <th>9355</th>\n",
       "      <td>1,041.00</td>\n",
       "      <td>0.51</td>\n",
       "      <td>156.00</td>\n",
       "      <td>28.30</td>\n",
       "    </tr>\n",
       "    <tr>\n",
       "      <th>9356</th>\n",
       "      <td>1,129.00</td>\n",
       "      <td>0.50</td>\n",
       "      <td>168.00</td>\n",
       "      <td>28.50</td>\n",
       "    </tr>\n",
       "  </tbody>\n",
       "</table>\n",
       "<p>3104 rows × 4 columns</p>\n",
       "</div>"
      ],
      "text/plain": [
       "       PT08S4   AH  NO2GT     T\n",
       "15   1,583.00 0.77 101.00 10.50\n",
       "16   1,446.00 0.76  98.00 10.80\n",
       "17   1,362.00 0.74  92.00 10.50\n",
       "18   1,401.00 0.80  95.00  9.50\n",
       "19   1,537.00 0.84 112.00  8.30\n",
       "...       ...  ...    ...   ...\n",
       "9352 1,374.00 0.76 190.00 21.90\n",
       "9353 1,264.00 0.71 179.00 24.30\n",
       "9354 1,241.00 0.64 175.00 26.90\n",
       "9355 1,041.00 0.51 156.00 28.30\n",
       "9356 1,129.00 0.50 168.00 28.50\n",
       "\n",
       "[3104 rows x 4 columns]"
      ]
     },
     "execution_count": 96,
     "metadata": {
      "tags": []
     },
     "output_type": "execute_result"
    }
   ],
   "source": [
    "dfSQforAnalysis = dfSQ[[\"PT08S4\", \"AH\", \"NO2GT\", \"T\"]]\n",
    "dfSQforAnalysis"
   ]
  },
  {
   "cell_type": "markdown",
   "metadata": {
    "id": "Vsab5485T0Ew"
   },
   "source": [
    "# Model 1: processing out: model with Randomforest Algorithm"
   ]
  },
  {
   "cell_type": "code",
   "execution_count": 97,
   "metadata": {
    "colab": {
     "base_uri": "https://localhost:8080/",
     "height": 402
    },
    "id": "2ujm07oLUb2V",
    "outputId": "7bd0fe3e-8a39-43ce-d6cd-b0371ae11e7b"
   },
   "outputs": [
    {
     "data": {
      "text/html": [
       "<div>\n",
       "<style scoped>\n",
       "    .dataframe tbody tr th:only-of-type {\n",
       "        vertical-align: middle;\n",
       "    }\n",
       "\n",
       "    .dataframe tbody tr th {\n",
       "        vertical-align: top;\n",
       "    }\n",
       "\n",
       "    .dataframe thead th {\n",
       "        text-align: right;\n",
       "    }\n",
       "</style>\n",
       "<table border=\"1\" class=\"dataframe\">\n",
       "  <thead>\n",
       "    <tr style=\"text-align: right;\">\n",
       "      <th></th>\n",
       "      <th>PT08S4</th>\n",
       "      <th>NO2GT</th>\n",
       "      <th>T</th>\n",
       "    </tr>\n",
       "  </thead>\n",
       "  <tbody>\n",
       "    <tr>\n",
       "      <th>15</th>\n",
       "      <td>1,583.00</td>\n",
       "      <td>101.00</td>\n",
       "      <td>10.50</td>\n",
       "    </tr>\n",
       "    <tr>\n",
       "      <th>16</th>\n",
       "      <td>1,446.00</td>\n",
       "      <td>98.00</td>\n",
       "      <td>10.80</td>\n",
       "    </tr>\n",
       "    <tr>\n",
       "      <th>17</th>\n",
       "      <td>1,362.00</td>\n",
       "      <td>92.00</td>\n",
       "      <td>10.50</td>\n",
       "    </tr>\n",
       "    <tr>\n",
       "      <th>18</th>\n",
       "      <td>1,401.00</td>\n",
       "      <td>95.00</td>\n",
       "      <td>9.50</td>\n",
       "    </tr>\n",
       "    <tr>\n",
       "      <th>19</th>\n",
       "      <td>1,537.00</td>\n",
       "      <td>112.00</td>\n",
       "      <td>8.30</td>\n",
       "    </tr>\n",
       "    <tr>\n",
       "      <th>...</th>\n",
       "      <td>...</td>\n",
       "      <td>...</td>\n",
       "      <td>...</td>\n",
       "    </tr>\n",
       "    <tr>\n",
       "      <th>9352</th>\n",
       "      <td>1,374.00</td>\n",
       "      <td>190.00</td>\n",
       "      <td>21.90</td>\n",
       "    </tr>\n",
       "    <tr>\n",
       "      <th>9353</th>\n",
       "      <td>1,264.00</td>\n",
       "      <td>179.00</td>\n",
       "      <td>24.30</td>\n",
       "    </tr>\n",
       "    <tr>\n",
       "      <th>9354</th>\n",
       "      <td>1,241.00</td>\n",
       "      <td>175.00</td>\n",
       "      <td>26.90</td>\n",
       "    </tr>\n",
       "    <tr>\n",
       "      <th>9355</th>\n",
       "      <td>1,041.00</td>\n",
       "      <td>156.00</td>\n",
       "      <td>28.30</td>\n",
       "    </tr>\n",
       "    <tr>\n",
       "      <th>9356</th>\n",
       "      <td>1,129.00</td>\n",
       "      <td>168.00</td>\n",
       "      <td>28.50</td>\n",
       "    </tr>\n",
       "  </tbody>\n",
       "</table>\n",
       "<p>3104 rows × 3 columns</p>\n",
       "</div>"
      ],
      "text/plain": [
       "       PT08S4  NO2GT     T\n",
       "15   1,583.00 101.00 10.50\n",
       "16   1,446.00  98.00 10.80\n",
       "17   1,362.00  92.00 10.50\n",
       "18   1,401.00  95.00  9.50\n",
       "19   1,537.00 112.00  8.30\n",
       "...       ...    ...   ...\n",
       "9352 1,374.00 190.00 21.90\n",
       "9353 1,264.00 179.00 24.30\n",
       "9354 1,241.00 175.00 26.90\n",
       "9355 1,041.00 156.00 28.30\n",
       "9356 1,129.00 168.00 28.50\n",
       "\n",
       "[3104 rows x 3 columns]"
      ]
     },
     "execution_count": 97,
     "metadata": {
      "tags": []
     },
     "output_type": "execute_result"
    }
   ],
   "source": [
    "X = dfSQforAnalysis.drop(['AH'], axis=1)\n",
    "X"
   ]
  },
  {
   "cell_type": "code",
   "execution_count": 98,
   "metadata": {
    "colab": {
     "base_uri": "https://localhost:8080/",
     "height": 402
    },
    "id": "lUqxQZnaU7Vn",
    "outputId": "d66c93e8-01c6-4af8-c433-1defa9fe829f"
   },
   "outputs": [
    {
     "data": {
      "text/html": [
       "<div>\n",
       "<style scoped>\n",
       "    .dataframe tbody tr th:only-of-type {\n",
       "        vertical-align: middle;\n",
       "    }\n",
       "\n",
       "    .dataframe tbody tr th {\n",
       "        vertical-align: top;\n",
       "    }\n",
       "\n",
       "    .dataframe thead th {\n",
       "        text-align: right;\n",
       "    }\n",
       "</style>\n",
       "<table border=\"1\" class=\"dataframe\">\n",
       "  <thead>\n",
       "    <tr style=\"text-align: right;\">\n",
       "      <th></th>\n",
       "      <th>AH</th>\n",
       "    </tr>\n",
       "  </thead>\n",
       "  <tbody>\n",
       "    <tr>\n",
       "      <th>15</th>\n",
       "      <td>0.77</td>\n",
       "    </tr>\n",
       "    <tr>\n",
       "      <th>16</th>\n",
       "      <td>0.76</td>\n",
       "    </tr>\n",
       "    <tr>\n",
       "      <th>17</th>\n",
       "      <td>0.74</td>\n",
       "    </tr>\n",
       "    <tr>\n",
       "      <th>18</th>\n",
       "      <td>0.80</td>\n",
       "    </tr>\n",
       "    <tr>\n",
       "      <th>19</th>\n",
       "      <td>0.84</td>\n",
       "    </tr>\n",
       "    <tr>\n",
       "      <th>...</th>\n",
       "      <td>...</td>\n",
       "    </tr>\n",
       "    <tr>\n",
       "      <th>9352</th>\n",
       "      <td>0.76</td>\n",
       "    </tr>\n",
       "    <tr>\n",
       "      <th>9353</th>\n",
       "      <td>0.71</td>\n",
       "    </tr>\n",
       "    <tr>\n",
       "      <th>9354</th>\n",
       "      <td>0.64</td>\n",
       "    </tr>\n",
       "    <tr>\n",
       "      <th>9355</th>\n",
       "      <td>0.51</td>\n",
       "    </tr>\n",
       "    <tr>\n",
       "      <th>9356</th>\n",
       "      <td>0.50</td>\n",
       "    </tr>\n",
       "  </tbody>\n",
       "</table>\n",
       "<p>3104 rows × 1 columns</p>\n",
       "</div>"
      ],
      "text/plain": [
       "       AH\n",
       "15   0.77\n",
       "16   0.76\n",
       "17   0.74\n",
       "18   0.80\n",
       "19   0.84\n",
       "...   ...\n",
       "9352 0.76\n",
       "9353 0.71\n",
       "9354 0.64\n",
       "9355 0.51\n",
       "9356 0.50\n",
       "\n",
       "[3104 rows x 1 columns]"
      ]
     },
     "execution_count": 98,
     "metadata": {
      "tags": []
     },
     "output_type": "execute_result"
    }
   ],
   "source": [
    "y = dfSQforAnalysis[[\"AH\"]]\n",
    "y"
   ]
  },
  {
   "cell_type": "code",
   "execution_count": 99,
   "metadata": {
    "id": "n_umfIm_U9HV"
   },
   "outputs": [],
   "source": [
    "from sklearn.ensemble import RandomForestRegressor\n",
    "from sklearn import metrics\n",
    "from sklearn.model_selection import train_test_split"
   ]
  },
  {
   "cell_type": "code",
   "execution_count": 100,
   "metadata": {
    "colab": {
     "base_uri": "https://localhost:8080/"
    },
    "id": "Iikd2lwfVAw0",
    "outputId": "8ac37009-15bd-4787-e047-3256c3fe7aa3"
   },
   "outputs": [
    {
     "name": "stderr",
     "output_type": "stream",
     "text": [
      "/usr/local/lib/python3.7/dist-packages/ipykernel_launcher.py:7: DataConversionWarning: A column-vector y was passed when a 1d array was expected. Please change the shape of y to (n_samples,), for example using ravel().\n",
      "  import sys\n"
     ]
    },
    {
     "data": {
      "text/plain": [
       "0.7236262333009706"
      ]
     },
     "execution_count": 100,
     "metadata": {
      "tags": []
     },
     "output_type": "execute_result"
    }
   ],
   "source": [
    "X_train, X_test, y_train, y_test = train_test_split(X, y, random_state=42)\n",
    "\n",
    "# Create a model \n",
    "rf_model = RandomForestRegressor()\n",
    "\n",
    "# Train the model\n",
    "rf_model.fit(X_train, y_train)\n",
    "\n",
    "# Get R2 measure (indicator of accuracy 1 is perfect, 0 is horrible)\n",
    "rf_model.score(X_test, y_test)"
   ]
  },
  {
   "cell_type": "code",
   "execution_count": 101,
   "metadata": {
    "id": "TyY-mOvaVFZC"
   },
   "outputs": [],
   "source": [
    "y_pred = rf_model.predict(X_test)"
   ]
  },
  {
   "cell_type": "code",
   "execution_count": 102,
   "metadata": {
    "id": "qgVWy-NtVG-m"
   },
   "outputs": [],
   "source": [
    "y_test2 = y_test.to_numpy()"
   ]
  },
  {
   "cell_type": "code",
   "execution_count": 103,
   "metadata": {
    "colab": {
     "base_uri": "https://localhost:8080/"
    },
    "id": "MHa9_-1WVLX8",
    "outputId": "9780d567-95ab-4050-d7ad-2b427eb50408"
   },
   "outputs": [
    {
     "name": "stdout",
     "output_type": "stream",
     "text": [
      "[1.480297   0.645343   1.0414363  1.5747955  1.04868175 1.361193\n",
      " 1.01522312 1.0623028  1.00965    1.5048    ]\n",
      "[[1.4499    ]\n",
      " [0.4599    ]\n",
      " [1.0724    ]\n",
      " [1.1271    ]\n",
      " [1.4487    ]\n",
      " [1.4653    ]\n",
      " [1.02553027]\n",
      " [0.9652    ]\n",
      " [0.9727    ]\n",
      " [1.1548    ]]\n"
     ]
    }
   ],
   "source": [
    "print(y_pred[0:10])\n",
    "print(y_test2[0:10])"
   ]
  },
  {
   "cell_type": "code",
   "execution_count": 104,
   "metadata": {
    "colab": {
     "base_uri": "https://localhost:8080/",
     "height": 286
    },
    "id": "sGQ3S0ioVQp2",
    "outputId": "1a6d063a-2e87-4622-f6fc-bafc04781890"
   },
   "outputs": [
    {
     "data": {
      "text/plain": [
       "[<matplotlib.lines.Line2D at 0x7f5f6bb84ad0>]"
      ]
     },
     "execution_count": 104,
     "metadata": {
      "tags": []
     },
     "output_type": "execute_result"
    },
    {
     "data": {
      "image/png": "[encoded data removed]",
      "text/plain": [
       "<Figure size 432x288 with 1 Axes>"
      ]
     },
     "metadata": {
      "needs_background": "light",
      "tags": []
     },
     "output_type": "display_data"
    }
   ],
   "source": [
    "import matplotlib.pyplot as plt\n",
    "plt.plot(y_test2[:100])\n",
    "plt.plot(y_pred[:100])"
   ]
  },
  {
   "cell_type": "code",
   "execution_count": 105,
   "metadata": {
    "colab": {
     "base_uri": "https://localhost:8080/",
     "height": 402
    },
    "id": "AKNzPc_UVTEj",
    "outputId": "dbaac44c-e1ea-4ee5-ebea-3080afe3cf98"
   },
   "outputs": [
    {
     "data": {
      "text/html": [
       "<div>\n",
       "<style scoped>\n",
       "    .dataframe tbody tr th:only-of-type {\n",
       "        vertical-align: middle;\n",
       "    }\n",
       "\n",
       "    .dataframe tbody tr th {\n",
       "        vertical-align: top;\n",
       "    }\n",
       "\n",
       "    .dataframe thead th {\n",
       "        text-align: right;\n",
       "    }\n",
       "</style>\n",
       "<table border=\"1\" class=\"dataframe\">\n",
       "  <thead>\n",
       "    <tr style=\"text-align: right;\">\n",
       "      <th></th>\n",
       "      <th>0</th>\n",
       "      <th>AH</th>\n",
       "    </tr>\n",
       "  </thead>\n",
       "  <tbody>\n",
       "    <tr>\n",
       "      <th>0</th>\n",
       "      <td>1.48</td>\n",
       "      <td>1.45</td>\n",
       "    </tr>\n",
       "    <tr>\n",
       "      <th>1</th>\n",
       "      <td>0.65</td>\n",
       "      <td>0.46</td>\n",
       "    </tr>\n",
       "    <tr>\n",
       "      <th>2</th>\n",
       "      <td>1.04</td>\n",
       "      <td>1.07</td>\n",
       "    </tr>\n",
       "    <tr>\n",
       "      <th>3</th>\n",
       "      <td>1.57</td>\n",
       "      <td>1.13</td>\n",
       "    </tr>\n",
       "    <tr>\n",
       "      <th>4</th>\n",
       "      <td>1.05</td>\n",
       "      <td>1.45</td>\n",
       "    </tr>\n",
       "    <tr>\n",
       "      <th>...</th>\n",
       "      <td>...</td>\n",
       "      <td>...</td>\n",
       "    </tr>\n",
       "    <tr>\n",
       "      <th>771</th>\n",
       "      <td>1.02</td>\n",
       "      <td>1.00</td>\n",
       "    </tr>\n",
       "    <tr>\n",
       "      <th>772</th>\n",
       "      <td>0.39</td>\n",
       "      <td>0.41</td>\n",
       "    </tr>\n",
       "    <tr>\n",
       "      <th>773</th>\n",
       "      <td>0.82</td>\n",
       "      <td>0.77</td>\n",
       "    </tr>\n",
       "    <tr>\n",
       "      <th>774</th>\n",
       "      <td>1.39</td>\n",
       "      <td>1.72</td>\n",
       "    </tr>\n",
       "    <tr>\n",
       "      <th>775</th>\n",
       "      <td>0.35</td>\n",
       "      <td>0.45</td>\n",
       "    </tr>\n",
       "  </tbody>\n",
       "</table>\n",
       "<p>776 rows × 2 columns</p>\n",
       "</div>"
      ],
      "text/plain": [
       "       0   AH\n",
       "0   1.48 1.45\n",
       "1   0.65 0.46\n",
       "2   1.04 1.07\n",
       "3   1.57 1.13\n",
       "4   1.05 1.45\n",
       "..   ...  ...\n",
       "771 1.02 1.00\n",
       "772 0.39 0.41\n",
       "773 0.82 0.77\n",
       "774 1.39 1.72\n",
       "775 0.35 0.45\n",
       "\n",
       "[776 rows x 2 columns]"
      ]
     },
     "execution_count": 105,
     "metadata": {
      "tags": []
     },
     "output_type": "execute_result"
    }
   ],
   "source": [
    "pd.concat([pd.Series(y_pred), y_test.reset_index(drop=True)], axis=1)"
   ]
  },
  {
   "cell_type": "code",
   "execution_count": 106,
   "metadata": {
    "colab": {
     "base_uri": "https://localhost:8080/"
    },
    "id": "jje5mFZ_VWQE",
    "outputId": "19785dfa-930c-4732-ddb5-efb823bfbcf7"
   },
   "outputs": [
    {
     "data": {
      "text/plain": [
       "[('PT08S4', 0.561490415745579),\n",
       " ('T', 0.28131251042145045),\n",
       " ('NO2GT', 0.15719707383297055)]"
      ]
     },
     "execution_count": 106,
     "metadata": {
      "tags": []
     },
     "output_type": "execute_result"
    }
   ],
   "source": [
    "sorted(zip(X.columns, rf_model.feature_importances_),\n",
    "        key=lambda x: x[1], reverse=True)"
   ]
  },
  {
   "cell_type": "markdown",
   "metadata": {
    "id": "5e0RAd20UHBG"
   },
   "source": [
    "# Bayesian Estimation using pymc3 module"
   ]
  },
  {
   "cell_type": "code",
   "execution_count": 107,
   "metadata": {
    "id": "8ziZXHWVVaa7"
   },
   "outputs": [],
   "source": [
    "from pymc3 import Model, Uniform, Normal, Gamma\n",
    "\n",
    "with Model() as absoluteHumidity:\n",
    "    alpha = Uniform('alpha', 0, 10)\n",
    "    beta = Uniform('beta', 0, 20)"
   ]
  },
  {
   "cell_type": "code",
   "execution_count": 108,
   "metadata": {
    "id": "uNIJe8OBVm3f"
   },
   "outputs": [],
   "source": [
    "with absoluteHumidity:    \n",
    "    y = Gamma('y', alpha = alpha, beta = beta, observed=dfSQforAnalysis[\"AH\"]) #likelihood"
   ]
  },
  {
   "cell_type": "code",
   "execution_count": 109,
   "metadata": {
    "colab": {
     "base_uri": "https://localhost:8080/"
    },
    "id": "444H1j3FVth-",
    "outputId": "588ec34a-628b-41ac-da7f-726b3d434fab"
   },
   "outputs": [
    {
     "name": "stderr",
     "output_type": "stream",
     "text": [
      "Average Loss = 1,663.8: 100%|██████████| 10000/10000 [00:08<00:00, 1242.06it/s]\n",
      "Finished [100%]: Average Loss = 1,662.9\n"
     ]
    }
   ],
   "source": [
    "from pymc3 import fit\n",
    "RANDOM_SEED = 20090425\n",
    "\n",
    "with absoluteHumidity:\n",
    "\n",
    "    samplesGamma1 = fit(random_seed=RANDOM_SEED).sample(500)"
   ]
  },
  {
   "cell_type": "code",
   "execution_count": 110,
   "metadata": {
    "id": "oG4NTD7yVxxY"
   },
   "outputs": [],
   "source": [
    "alphas = samplesGamma1['alpha']\n",
    "betas = samplesGamma1['beta']"
   ]
  },
  {
   "cell_type": "code",
   "execution_count": 111,
   "metadata": {
    "id": "UoCS6rw4Vz8z"
   },
   "outputs": [],
   "source": [
    "humidSample = Gamma.dist(alpha = alphas, beta = betas).random()"
   ]
  },
  {
   "cell_type": "code",
   "execution_count": 112,
   "metadata": {
    "colab": {
     "base_uri": "https://localhost:8080/",
     "height": 383
    },
    "id": "3Kl6PD2tWUDl",
    "outputId": "01ed03f0-b328-4eac-845f-6fbc27e67dc3"
   },
   "outputs": [
    {
     "name": "stderr",
     "output_type": "stream",
     "text": [
      "/usr/local/lib/python3.7/dist-packages/seaborn/distributions.py:2557: FutureWarning: `distplot` is a deprecated function and will be removed in a future version. Please adapt your code to use either `displot` (a figure-level function with similar flexibility) or `histplot` (an axes-level function for histograms).\n",
      "  warnings.warn(msg, FutureWarning)\n",
      "/usr/local/lib/python3.7/dist-packages/seaborn/distributions.py:2557: FutureWarning: `distplot` is a deprecated function and will be removed in a future version. Please adapt your code to use either `displot` (a figure-level function with similar flexibility) or `histplot` (an axes-level function for histograms).\n",
      "  warnings.warn(msg, FutureWarning)\n"
     ]
    },
    {
     "data": {
      "text/plain": [
       "<matplotlib.legend.Legend at 0x7f5f6bb890d0>"
      ]
     },
     "execution_count": 112,
     "metadata": {
      "tags": []
     },
     "output_type": "execute_result"
    },
    {
     "data": {
      "image/png": "[encoded data removed]",
      "text/plain": [
       "<Figure size 432x288 with 1 Axes>"
      ]
     },
     "metadata": {
      "needs_background": "light",
      "tags": []
     },
     "output_type": "display_data"
    }
   ],
   "source": [
    "import matplotlib.pyplot as plt\n",
    "import seaborn as sns\n",
    "\n",
    "sns.distplot(humidSample, label='simulated')\n",
    "sns.distplot(dfSQforAnalysis[\"AH\"], label='observed')\n",
    "plt.legend()"
   ]
  },
  {
   "cell_type": "markdown",
   "metadata": {
    "id": "Sq9B4H9qUcA2"
   },
   "source": [
    "# using Linear algebra multivariate distribution\n"
   ]
  },
  {
   "cell_type": "code",
   "execution_count": 113,
   "metadata": {
    "colab": {
     "base_uri": "https://localhost:8080/"
    },
    "id": "06SnlCDTWjvL",
    "outputId": "5af0c500-60ef-4b44-a478-e1e63eb0460e"
   },
   "outputs": [
    {
     "name": "stderr",
     "output_type": "stream",
     "text": [
      "Auto-assigning NUTS sampler...\n",
      "Initializing NUTS using adapt_diag...\n",
      "Sequential sampling (2 chains in 1 job)\n",
      "NUTS: [sd, T, NO2GT, PT08S4, Intercept]\n",
      "Sampling chain 0, 0 divergences: 100%|██████████| 2000/2000 [00:26<00:00, 74.43it/s]\n",
      "Sampling chain 1, 0 divergences: 100%|██████████| 2000/2000 [00:19<00:00, 102.15it/s]\n"
     ]
    }
   ],
   "source": [
    "import pymc3 as pm\n",
    "with pm.Model() as glm_model:\n",
    "    pm.glm.GLM.from_formula('AH ~ PT08S4 + NO2GT + T',\n",
    "                            dfSQforAnalysis,\n",
    "                            family=pm.glm.families.Normal())\n",
    "    trace2 = pm.sample(1000, tune=1000, init='adapt_diag', cores=1)"
   ]
  },
  {
   "cell_type": "code",
   "execution_count": 114,
   "metadata": {
    "colab": {
     "base_uri": "https://localhost:8080/",
     "height": 1000
    },
    "id": "ScK8g9VjWlgF",
    "outputId": "6cac4664-69a3-47a6-e9d5-2c4caa53ff4d"
   },
   "outputs": [
    {
     "name": "stderr",
     "output_type": "stream",
     "text": [
      "/usr/local/lib/python3.7/dist-packages/arviz/plots/backends/matplotlib/distplot.py:38: UserWarning: Argument backend_kwargs has not effect in matplotlib.plot_distSupplied value won't be used\n",
      "  \"Argument backend_kwargs has not effect in matplotlib.plot_dist\"\n",
      "/usr/local/lib/python3.7/dist-packages/arviz/plots/backends/matplotlib/distplot.py:38: UserWarning: Argument backend_kwargs has not effect in matplotlib.plot_distSupplied value won't be used\n",
      "  \"Argument backend_kwargs has not effect in matplotlib.plot_dist\"\n",
      "/usr/local/lib/python3.7/dist-packages/arviz/plots/backends/matplotlib/distplot.py:38: UserWarning: Argument backend_kwargs has not effect in matplotlib.plot_distSupplied value won't be used\n",
      "  \"Argument backend_kwargs has not effect in matplotlib.plot_dist\"\n",
      "/usr/local/lib/python3.7/dist-packages/arviz/plots/backends/matplotlib/distplot.py:38: UserWarning: Argument backend_kwargs has not effect in matplotlib.plot_distSupplied value won't be used\n",
      "  \"Argument backend_kwargs has not effect in matplotlib.plot_dist\"\n",
      "/usr/local/lib/python3.7/dist-packages/arviz/plots/backends/matplotlib/distplot.py:38: UserWarning: Argument backend_kwargs has not effect in matplotlib.plot_distSupplied value won't be used\n",
      "  \"Argument backend_kwargs has not effect in matplotlib.plot_dist\"\n",
      "/usr/local/lib/python3.7/dist-packages/arviz/plots/backends/matplotlib/distplot.py:38: UserWarning: Argument backend_kwargs has not effect in matplotlib.plot_distSupplied value won't be used\n",
      "  \"Argument backend_kwargs has not effect in matplotlib.plot_dist\"\n",
      "/usr/local/lib/python3.7/dist-packages/arviz/plots/backends/matplotlib/distplot.py:38: UserWarning: Argument backend_kwargs has not effect in matplotlib.plot_distSupplied value won't be used\n",
      "  \"Argument backend_kwargs has not effect in matplotlib.plot_dist\"\n",
      "/usr/local/lib/python3.7/dist-packages/arviz/plots/backends/matplotlib/distplot.py:38: UserWarning: Argument backend_kwargs has not effect in matplotlib.plot_distSupplied value won't be used\n",
      "  \"Argument backend_kwargs has not effect in matplotlib.plot_dist\"\n",
      "/usr/local/lib/python3.7/dist-packages/arviz/plots/backends/matplotlib/distplot.py:38: UserWarning: Argument backend_kwargs has not effect in matplotlib.plot_distSupplied value won't be used\n",
      "  \"Argument backend_kwargs has not effect in matplotlib.plot_dist\"\n",
      "/usr/local/lib/python3.7/dist-packages/arviz/plots/backends/matplotlib/distplot.py:38: UserWarning: Argument backend_kwargs has not effect in matplotlib.plot_distSupplied value won't be used\n",
      "  \"Argument backend_kwargs has not effect in matplotlib.plot_dist\"\n"
     ]
    },
    {
     "data": {
      "text/plain": [
       "array([[<matplotlib.axes._subplots.AxesSubplot object at 0x7f5f6924b950>,\n",
       "        <matplotlib.axes._subplots.AxesSubplot object at 0x7f5f691e9810>],\n",
       "       [<matplotlib.axes._subplots.AxesSubplot object at 0x7f5f692f9710>,\n",
       "        <matplotlib.axes._subplots.AxesSubplot object at 0x7f5f693f3e50>],\n",
       "       [<matplotlib.axes._subplots.AxesSubplot object at 0x7f5f69159f50>,\n",
       "        <matplotlib.axes._subplots.AxesSubplot object at 0x7f5f69111890>],\n",
       "       [<matplotlib.axes._subplots.AxesSubplot object at 0x7f5f69147d90>,\n",
       "        <matplotlib.axes._subplots.AxesSubplot object at 0x7f5f690fdb90>],\n",
       "       [<matplotlib.axes._subplots.AxesSubplot object at 0x7f5f690b9a90>,\n",
       "        <matplotlib.axes._subplots.AxesSubplot object at 0x7f5f690714d0>]],\n",
       "      dtype=object)"
      ]
     },
     "execution_count": 114,
     "metadata": {
      "tags": []
     },
     "output_type": "execute_result"
    },
    {
     "data": {
      "image/png": "[encoded data removed]",
      "text/plain": [
       "<Figure size 864x720 with 10 Axes>"
      ]
     },
     "metadata": {
      "needs_background": "light",
      "tags": []
     },
     "output_type": "display_data"
    }
   ],
   "source": [
    "import arviz as arviz\n",
    "arviz.plot_trace(trace2)"
   ]
  },
  {
   "cell_type": "code",
   "execution_count": 115,
   "metadata": {
    "colab": {
     "base_uri": "https://localhost:8080/",
     "height": 342
    },
    "id": "SA4YMATRWmzT",
    "outputId": "98ce6881-e946-44d7-8baf-0fe4b1ca8b05"
   },
   "outputs": [
    {
     "data": {
      "text/plain": [
       "array([<matplotlib.axes._subplots.AxesSubplot object at 0x7f5f695bd2d0>,\n",
       "       <matplotlib.axes._subplots.AxesSubplot object at 0x7f5f695b8d50>,\n",
       "       <matplotlib.axes._subplots.AxesSubplot object at 0x7f5f69490bd0>,\n",
       "       <matplotlib.axes._subplots.AxesSubplot object at 0x7f5f69d75b10>],\n",
       "      dtype=object)"
      ]
     },
     "execution_count": 115,
     "metadata": {
      "tags": []
     },
     "output_type": "execute_result"
    },
    {
     "data": {
      "image/png": "[encoded data removed]",
      "text/plain": [
       "<Figure size 1987.2x331.2 with 4 Axes>"
      ]
     },
     "metadata": {
      "needs_background": "light",
      "tags": []
     },
     "output_type": "display_data"
    }
   ],
   "source": [
    "arviz.plot_posterior(trace2[500:], var_names=['Intercept', 'PT08S4', 'NO2GT', 'T'])"
   ]
  },
  {
   "cell_type": "markdown",
   "metadata": {
    "id": "ViptKSkyWYKu"
   },
   "source": [
    "## Conclusion \n",
    "Using above model I analysed the real time data that was recorded in Italy and analyzed on what harmful chemicals are actually effecting our Humidity. The metallic oxides that significantly effect the environment was the Tungton oxides along with little considerable effect of Temparature"
   ]
  }
 ],
 "metadata": {
  "colab": {
   "name": "finalDsemRun.ipynb",
   "provenance": []
  },
  "kernelspec": {
   "display_name": "Python 3",
   "language": "python",
   "name": "python3"
  },
  "language_info": {
   "codemirror_mode": {
    "name": "ipython",
    "version": 3
   },
   "file_extension": ".py",
   "mimetype": "text/x-python",
   "name": "python",
   "nbconvert_exporter": "python",
   "pygments_lexer": "ipython3",
   "version": "3.8.5"
  }
 },
 "nbformat": 4,
 "nbformat_minor": 1
}
